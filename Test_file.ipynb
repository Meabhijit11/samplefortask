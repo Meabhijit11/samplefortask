{
 "cells": [
  {
   "cell_type": "code",
   "execution_count": 3,
   "id": "a9e04d20",
   "metadata": {},
   "outputs": [],
   "source": [
    "import pandas as pd\n",
    "import numpy as np\n",
    "from sklearn.model_selection import train_test_split\n",
    "from sklearn.linear_model import LinearRegression\n",
    "from sklearn.ensemble import RandomForestRegressor\n",
    "from xgboost import XGBRegressor\n",
    "from sklearn.metrics import mean_squared_error\n",
    "from statsmodels.tsa.arima.model import ARIMA\n",
    "# from tensorflow.keras.models import Sequential\n",
    "# from tensorflow.keras.layers import Dense\n",
    "from sklearn.preprocessing import StandardScaler"
   ]
  },
  {
   "cell_type": "code",
   "execution_count": 4,
   "id": "2305fd72",
   "metadata": {},
   "outputs": [],
   "source": [
    "# Load the data\n",
    "data = pd.read_csv('dataset.csv')  # Replace 'your_data.csv' with the actual file name"
   ]
  },
  {
   "cell_type": "code",
   "execution_count": 5,
   "id": "04207c59",
   "metadata": {},
   "outputs": [],
   "source": [
    "# Feature engineering\n",
    "data['start_datetime'] = pd.to_datetime(data['start_date'] + ' ' + data['start_time_hour'].astype(str) + ':' + data['start_time_minute'].astype(str) + ':00')\n",
    "data['end_datetime'] = pd.to_datetime(data['end_date'] + ' ' + data['end_time_hour'].astype(str) + ':' + data['end_time_minute'].astype(str) + ':00')\n",
    "data['trip_count'] = 1"
   ]
  },
  {
   "cell_type": "code",
   "execution_count": 6,
   "id": "05c9104a",
   "metadata": {},
   "outputs": [],
   "source": [
    "# Aggregate data into 15-minute intervals\n",
    "demand_data = data.resample('15T', on='start_datetime').sum()\n",
    "\n",
    "# Feature selection\n",
    "features = demand_data[['tripDistance', 'tripSpeed', 'tripDuration', 'tripFare', 'paymentType']]\n",
    "target = demand_data['trip_count']\n"
   ]
  },
  {
   "cell_type": "code",
   "execution_count": 7,
   "id": "3dede83a",
   "metadata": {},
   "outputs": [],
   "source": [
    "# Split the data\n",
    "X_train, X_test, y_train, y_test = train_test_split(features, target, test_size=0.2, shuffle=False)\n"
   ]
  },
  {
   "cell_type": "code",
   "execution_count": 8,
   "id": "67294f88",
   "metadata": {},
   "outputs": [],
   "source": [
    "# Linear Regression\n",
    "model_lr = LinearRegression()\n",
    "model_lr.fit(X_train, y_train)\n",
    "lr_predictions = model_lr.predict(X_test)\n",
    "\n",
    "# Random Forest\n",
    "model_rf = RandomForestRegressor(n_estimators=100, random_state=42)\n",
    "model_rf.fit(X_train, y_train)\n",
    "rf_predictions = model_rf.predict(X_test)\n",
    "\n",
    "# XGBoost\n",
    "model_xgb = XGBRegressor(n_estimators=100, random_state=42)\n",
    "model_xgb.fit(X_train, y_train)\n",
    "xgb_predictions = model_xgb.predict(X_test)\n",
    "\n",
    "# ARIMA\n",
    "model_arima = ARIMA(y_train, order=(5, 1, 0))\n",
    "arima_predictions = model_arima.fit().forecast(steps=len(y_test))"
   ]
  },
  {
   "cell_type": "code",
   "execution_count": null,
   "id": "7f6d84db",
   "metadata": {},
   "outputs": [],
   "source": [
    "# # DNN (Deep Neural Network)\n",
    "# scaler = StandardScaler()\n",
    "# X_train_scaled = scaler.fit_transform(X_train)\n",
    "# X_test_scaled = scaler.transform(X_test)\n",
    "\n",
    "# model_dnn = Sequential([\n",
    "#     Dense(64, activation='relu', input_shape=(X_train_scaled.shape[1],)),\n",
    "#     Dense(32, activation='relu'),\n",
    "#     Dense(1)\n",
    "# ])\n",
    "\n",
    "# model_dnn.compile(optimizer='adam', loss='mean_squared_error')\n",
    "# model_dnn.fit(X_train_scaled, y_train, epochs=10, batch_size=32, verbose=0)\n",
    "# dnn_predictions = model_dnn.predict(X_test_scaled).flatten()"
   ]
  },
  {
   "cell_type": "code",
   "execution_count": 9,
   "id": "3079a87e",
   "metadata": {},
   "outputs": [
    {
     "name": "stdout",
     "output_type": "stream",
     "text": [
      "Linear Regression MSE: 6.571435387044201e-23\n",
      "Random Forest MSE: 0.0933050356466023\n",
      "XGBoost MSE: 0.11968702012929736\n",
      "ARIMA MSE: 511.47982120952094\n"
     ]
    }
   ],
   "source": [
    "# Evaluate models\n",
    "print(\"Linear Regression MSE:\", mean_squared_error(y_test, lr_predictions))\n",
    "print(\"Random Forest MSE:\", mean_squared_error(y_test, rf_predictions))\n",
    "print(\"XGBoost MSE:\", mean_squared_error(y_test, xgb_predictions))\n",
    "print(\"ARIMA MSE:\", mean_squared_error(y_test, arima_predictions))\n",
    "# print(\"DNN MSE:\", mean_squared_error(y_test, dnn_predictions))"
   ]
  },
  {
   "cell_type": "code",
   "execution_count": 13,
   "id": "e9a60ed4",
   "metadata": {},
   "outputs": [
    {
     "name": "stdout",
     "output_type": "stream",
     "text": [
      "Linear Regression Prediction: [-11.66666667]\n",
      "Random Forest Prediction: [1.]\n",
      "XGBoost Prediction: [1.0002676]\n"
     ]
    }
   ],
   "source": [
    "# Assuming 'features' is a DataFrame with columns 'tripDistance', 'tripSpeed', 'tripDuration', 'tripFare', 'paymentType'\n",
    "sample_input = pd.DataFrame({\n",
    "    'tripDistance': [13.0],\n",
    "    'tripSpeed': [23.0],\n",
    "    'tripDuration': [18],\n",
    "    'tripFare': [60],\n",
    "    'paymentType': [1]\n",
    "})\n",
    "\n",
    "# Predictions using the trained models\n",
    "lr_prediction = model_lr.predict(sample_input)\n",
    "rf_prediction = model_rf.predict(sample_input)\n",
    "xgb_prediction = model_xgb.predict(sample_input)\n",
    "# arima_prediction = arima_predictions.forecast(steps=1)[0]\n",
    "\n",
    "\n",
    "print(\"Linear Regression Prediction:\", lr_prediction)\n",
    "print(\"Random Forest Prediction:\", rf_prediction)\n",
    "print(\"XGBoost Prediction:\", xgb_prediction)\n",
    "# print(\"ARIMA Prediction:\", arima_prediction)\n"
   ]
  },
  {
   "cell_type": "code",
   "execution_count": null,
   "id": "9f23f7c9",
   "metadata": {},
   "outputs": [],
   "source": []
  },
  {
   "cell_type": "code",
   "execution_count": null,
   "id": "9924ccc5",
   "metadata": {},
   "outputs": [],
   "source": []
  },
  {
   "cell_type": "code",
   "execution_count": 15,
   "id": "eb7c5895",
   "metadata": {},
   "outputs": [
    {
     "name": "stdout",
     "output_type": "stream",
     "text": [
      "Linear Regression Prediction: [-2.16666667]\n",
      "Random Forest Prediction: [1.]\n",
      "XGBoost Prediction: [1.0016676]\n"
     ]
    }
   ],
   "source": [
    "# Assuming 'features' is a DataFrame with columns 'tripDistance', 'tripSpeed', 'tripDuration', 'tripFare', 'paymentType'\n",
    "sample_input = pd.DataFrame({\n",
    "    'tripDistance': [4],\n",
    "    'tripSpeed': [28],\n",
    "    'tripDuration': [12],\n",
    "    'tripFare': [27],\n",
    "    'paymentType': [0]\n",
    "})\n",
    "\n",
    "# Predictions using the trained models\n",
    "lr_prediction = model_lr.predict(sample_input)\n",
    "rf_prediction = model_rf.predict(sample_input)\n",
    "xgb_prediction = model_xgb.predict(sample_input)\n",
    "# arima_prediction = arima_predictions.forecast(steps=1)[0]\n",
    "\n",
    "\n",
    "print(\"Linear Regression Prediction:\", lr_prediction)\n",
    "print(\"Random Forest Prediction:\", rf_prediction)\n",
    "print(\"XGBoost Prediction:\", xgb_prediction)\n",
    "# print(\"ARIMA Prediction:\", arima_prediction)"
   ]
  },
  {
   "cell_type": "code",
   "execution_count": null,
   "id": "a7375d5d",
   "metadata": {},
   "outputs": [],
   "source": []
  }
 ],
 "metadata": {
  "kernelspec": {
   "display_name": "Python 3 (ipykernel)",
   "language": "python",
   "name": "python3"
  },
  "language_info": {
   "codemirror_mode": {
    "name": "ipython",
    "version": 3
   },
   "file_extension": ".py",
   "mimetype": "text/x-python",
   "name": "python",
   "nbconvert_exporter": "python",
   "pygments_lexer": "ipython3",
   "version": "3.8.12"
  }
 },
 "nbformat": 4,
 "nbformat_minor": 5
}
