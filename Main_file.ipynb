{
 "cells": [
  {
   "cell_type": "markdown",
   "id": "f8da8594",
   "metadata": {},
   "source": [
    "# TaxiDemandPredictionAssignment"
   ]
  },
  {
   "cell_type": "code",
   "execution_count": 1,
   "id": "84f2e200",
   "metadata": {},
   "outputs": [],
   "source": [
    "import os \n",
    "import glob\n",
    "import pandas  as pd"
   ]
  },
  {
   "cell_type": "markdown",
   "id": "e9f4dd01",
   "metadata": {},
   "source": [
    "Import the libraries required for Feature engineering."
   ]
  },
  {
   "cell_type": "code",
   "execution_count": 2,
   "id": "b214796f",
   "metadata": {},
   "outputs": [],
   "source": [
    "# Specify the folder path where your JSON files are located\n",
    "folder_path = 'Jan2022Jul2023'\n",
    "\n",
    "# Create an empty DataFrame to store the combined data\n",
    "data = pd.DataFrame()\n",
    "\n",
    "# Loop through all the files in the specified folder, check if they are JSON files, and read them into a DataFrame\n",
    "for filename in os.listdir(folder_path):\n",
    "    if filename.endswith('.json'):\n",
    "        file_path = os.path.join(folder_path, filename)\n",
    "        df = pd.read_json(file_path)\n",
    "        data = pd.concat([data, df], ignore_index=True)"
   ]
  },
  {
   "cell_type": "markdown",
   "id": "d95d3f5c",
   "metadata": {},
   "source": [
    "Here, The script reads multiple JSON files from a specified folder and combines them into a single pandas DataFrame."
   ]
  },
  {
   "cell_type": "code",
   "execution_count": 3,
   "id": "d323fb1f",
   "metadata": {},
   "outputs": [
    {
     "data": {
      "text/html": [
       "<div>\n",
       "<style scoped>\n",
       "    .dataframe tbody tr th:only-of-type {\n",
       "        vertical-align: middle;\n",
       "    }\n",
       "\n",
       "    .dataframe tbody tr th {\n",
       "        vertical-align: top;\n",
       "    }\n",
       "\n",
       "    .dataframe thead th {\n",
       "        text-align: right;\n",
       "    }\n",
       "</style>\n",
       "<table border=\"1\" class=\"dataframe\">\n",
       "  <thead>\n",
       "    <tr style=\"text-align: right;\">\n",
       "      <th></th>\n",
       "      <th>driverId</th>\n",
       "      <th>tripId</th>\n",
       "      <th>startLocation</th>\n",
       "      <th>tripDistance</th>\n",
       "      <th>tripSpeed</th>\n",
       "      <th>tripDuration</th>\n",
       "      <th>endLocation</th>\n",
       "      <th>startTime</th>\n",
       "      <th>tripFare</th>\n",
       "      <th>paymentType</th>\n",
       "      <th>endTime</th>\n",
       "    </tr>\n",
       "  </thead>\n",
       "  <tbody>\n",
       "    <tr>\n",
       "      <th>0</th>\n",
       "      <td>1</td>\n",
       "      <td>0</td>\n",
       "      <td>[23.067647, 72.566629]</td>\n",
       "      <td>6.5</td>\n",
       "      <td>18.72</td>\n",
       "      <td>21</td>\n",
       "      <td>[23.125884, 72.566629]</td>\n",
       "      <td>2022-01-01T19:23:00</td>\n",
       "      <td>71</td>\n",
       "      <td>upi</td>\n",
       "      <td>2022-01-01T19:43:00</td>\n",
       "    </tr>\n",
       "    <tr>\n",
       "      <th>1</th>\n",
       "      <td>1</td>\n",
       "      <td>1</td>\n",
       "      <td>[22.989396, 72.586156]</td>\n",
       "      <td>8.7</td>\n",
       "      <td>17.22</td>\n",
       "      <td>30</td>\n",
       "      <td>[23.044864, 72.646446]</td>\n",
       "      <td>2022-01-01T21:19:00</td>\n",
       "      <td>93</td>\n",
       "      <td>cash</td>\n",
       "      <td>2022-01-01T21:49:00</td>\n",
       "    </tr>\n",
       "    <tr>\n",
       "      <th>2</th>\n",
       "      <td>1</td>\n",
       "      <td>2</td>\n",
       "      <td>[23.084192, 72.529666]</td>\n",
       "      <td>2.4</td>\n",
       "      <td>17.92</td>\n",
       "      <td>8</td>\n",
       "      <td>[23.099364, 72.546162]</td>\n",
       "      <td>2022-01-01T22:19:00</td>\n",
       "      <td>30</td>\n",
       "      <td>cash</td>\n",
       "      <td>2022-01-01T22:26:00</td>\n",
       "    </tr>\n",
       "    <tr>\n",
       "      <th>3</th>\n",
       "      <td>1</td>\n",
       "      <td>3</td>\n",
       "      <td>[22.971624, 72.525195]</td>\n",
       "      <td>1.5</td>\n",
       "      <td>20.19</td>\n",
       "      <td>4</td>\n",
       "      <td>[22.971623, 72.539412]</td>\n",
       "      <td>2022-01-01T22:38:00</td>\n",
       "      <td>21</td>\n",
       "      <td>cash</td>\n",
       "      <td>2022-01-01T22:42:00</td>\n",
       "    </tr>\n",
       "    <tr>\n",
       "      <th>4</th>\n",
       "      <td>1</td>\n",
       "      <td>4</td>\n",
       "      <td>[23.059013, 72.524127]</td>\n",
       "      <td>6.0</td>\n",
       "      <td>15.42</td>\n",
       "      <td>23</td>\n",
       "      <td>[23.103218, 72.557781]</td>\n",
       "      <td>2022-01-01T22:54:00</td>\n",
       "      <td>66</td>\n",
       "      <td>upi</td>\n",
       "      <td>2022-01-01T23:17:00</td>\n",
       "    </tr>\n",
       "  </tbody>\n",
       "</table>\n",
       "</div>"
      ],
      "text/plain": [
       "   driverId  tripId           startLocation  tripDistance  tripSpeed  \\\n",
       "0         1       0  [23.067647, 72.566629]           6.5      18.72   \n",
       "1         1       1  [22.989396, 72.586156]           8.7      17.22   \n",
       "2         1       2  [23.084192, 72.529666]           2.4      17.92   \n",
       "3         1       3  [22.971624, 72.525195]           1.5      20.19   \n",
       "4         1       4  [23.059013, 72.524127]           6.0      15.42   \n",
       "\n",
       "   tripDuration             endLocation            startTime  tripFare  \\\n",
       "0            21  [23.125884, 72.566629]  2022-01-01T19:23:00        71   \n",
       "1            30  [23.044864, 72.646446]  2022-01-01T21:19:00        93   \n",
       "2             8  [23.099364, 72.546162]  2022-01-01T22:19:00        30   \n",
       "3             4  [22.971623, 72.539412]  2022-01-01T22:38:00        21   \n",
       "4            23  [23.103218, 72.557781]  2022-01-01T22:54:00        66   \n",
       "\n",
       "  paymentType              endTime  \n",
       "0         upi  2022-01-01T19:43:00  \n",
       "1        cash  2022-01-01T21:49:00  \n",
       "2        cash  2022-01-01T22:26:00  \n",
       "3        cash  2022-01-01T22:42:00  \n",
       "4         upi  2022-01-01T23:17:00  "
      ]
     },
     "execution_count": 3,
     "metadata": {},
     "output_type": "execute_result"
    }
   ],
   "source": [
    "data.head()"
   ]
  },
  {
   "cell_type": "code",
   "execution_count": 4,
   "id": "df480240",
   "metadata": {},
   "outputs": [
    {
     "data": {
      "text/plain": [
       "(99017, 11)"
      ]
     },
     "execution_count": 4,
     "metadata": {},
     "output_type": "execute_result"
    }
   ],
   "source": [
    "\n",
    "data.shape"
   ]
  },
  {
   "cell_type": "markdown",
   "id": "653518b4",
   "metadata": {},
   "source": [
    "* Shape of the given dataset.\n",
    "* It has 11 Column and 99017 Rows"
   ]
  },
  {
   "cell_type": "code",
   "execution_count": 5,
   "id": "131f3112",
   "metadata": {},
   "outputs": [
    {
     "data": {
      "text/plain": [
       "Index(['driverId', 'tripId', 'startLocation', 'tripDistance', 'tripSpeed',\n",
       "       'tripDuration', 'endLocation', 'startTime', 'tripFare', 'paymentType',\n",
       "       'endTime'],\n",
       "      dtype='object')"
      ]
     },
     "execution_count": 5,
     "metadata": {},
     "output_type": "execute_result"
    }
   ],
   "source": [
    "col_name = data.columns\n",
    "col_name"
   ]
  },
  {
   "cell_type": "code",
   "execution_count": 6,
   "id": "20d9385e",
   "metadata": {},
   "outputs": [
    {
     "name": "stdout",
     "output_type": "stream",
     "text": [
      "<class 'pandas.core.frame.DataFrame'>\n",
      "RangeIndex: 99017 entries, 0 to 99016\n",
      "Data columns (total 11 columns):\n",
      " #   Column         Non-Null Count  Dtype  \n",
      "---  ------         --------------  -----  \n",
      " 0   driverId       99017 non-null  int64  \n",
      " 1   tripId         99017 non-null  int64  \n",
      " 2   startLocation  99017 non-null  object \n",
      " 3   tripDistance   99017 non-null  float64\n",
      " 4   tripSpeed      99017 non-null  float64\n",
      " 5   tripDuration   99017 non-null  int64  \n",
      " 6   endLocation    99017 non-null  object \n",
      " 7   startTime      99017 non-null  object \n",
      " 8   tripFare       99017 non-null  int64  \n",
      " 9   paymentType    99017 non-null  object \n",
      " 10  endTime        99017 non-null  object \n",
      "dtypes: float64(2), int64(4), object(5)\n",
      "memory usage: 8.3+ MB\n"
     ]
    }
   ],
   "source": [
    "data.info()"
   ]
  },
  {
   "cell_type": "markdown",
   "id": "4203c014",
   "metadata": {},
   "source": [
    "* This is the concise summary of the structure and content of a DataFrame. "
   ]
  },
  {
   "cell_type": "code",
   "execution_count": 7,
   "id": "2649d290",
   "metadata": {},
   "outputs": [
    {
     "data": {
      "text/plain": [
       "driverId         0\n",
       "tripId           0\n",
       "startLocation    0\n",
       "tripDistance     0\n",
       "tripSpeed        0\n",
       "tripDuration     0\n",
       "endLocation      0\n",
       "startTime        0\n",
       "tripFare         0\n",
       "paymentType      0\n",
       "endTime          0\n",
       "dtype: int64"
      ]
     },
     "execution_count": 7,
     "metadata": {},
     "output_type": "execute_result"
    }
   ],
   "source": [
    "data.isnull().sum()"
   ]
  },
  {
   "cell_type": "markdown",
   "id": "8278cd7c",
   "metadata": {},
   "source": [
    "* Checking the Null Values present in the given Dataset.\n",
    "* There is no Null values in the dataset."
   ]
  },
  {
   "cell_type": "code",
   "execution_count": 8,
   "id": "22f5276a",
   "metadata": {},
   "outputs": [],
   "source": [
    "# List of columns to process\n",
    "columns_to_process = ['startLocation', 'endLocation']\n",
    "\n",
    "# Remove square brackets '[' and ']' from specified columns, handling NaN values\n",
    "for col in columns_to_process:\n",
    "    data[col] = data[col].apply(lambda x: str(x).replace('[', '').replace(']', '') if pd.notna(x).any() else x)\n",
    "    "
   ]
  },
  {
   "cell_type": "markdown",
   "id": "842d4b3b",
   "metadata": {},
   "source": [
    "* In the dataset, the columns “startLocation” and \"endLocation\" are given in the list format.\n",
    "* So we need to remove those “[“ and “]”.\n",
    "* This script iterates over specified columns in combined_data and removes square brackets from each cell, handling NaN values appropriately. \n",
    "* The modified DataFrame is then stored back in the same columns."
   ]
  },
  {
   "cell_type": "code",
   "execution_count": 9,
   "id": "ead924fc",
   "metadata": {},
   "outputs": [
    {
     "data": {
      "text/html": [
       "<div>\n",
       "<style scoped>\n",
       "    .dataframe tbody tr th:only-of-type {\n",
       "        vertical-align: middle;\n",
       "    }\n",
       "\n",
       "    .dataframe tbody tr th {\n",
       "        vertical-align: top;\n",
       "    }\n",
       "\n",
       "    .dataframe thead th {\n",
       "        text-align: right;\n",
       "    }\n",
       "</style>\n",
       "<table border=\"1\" class=\"dataframe\">\n",
       "  <thead>\n",
       "    <tr style=\"text-align: right;\">\n",
       "      <th></th>\n",
       "      <th>driverId</th>\n",
       "      <th>tripId</th>\n",
       "      <th>startLocation</th>\n",
       "      <th>tripDistance</th>\n",
       "      <th>tripSpeed</th>\n",
       "      <th>tripDuration</th>\n",
       "      <th>endLocation</th>\n",
       "      <th>startTime</th>\n",
       "      <th>tripFare</th>\n",
       "      <th>paymentType</th>\n",
       "      <th>endTime</th>\n",
       "    </tr>\n",
       "  </thead>\n",
       "  <tbody>\n",
       "    <tr>\n",
       "      <th>0</th>\n",
       "      <td>1</td>\n",
       "      <td>0</td>\n",
       "      <td>23.067647, 72.566629</td>\n",
       "      <td>6.5</td>\n",
       "      <td>18.72</td>\n",
       "      <td>21</td>\n",
       "      <td>23.125884, 72.566629</td>\n",
       "      <td>2022-01-01T19:23:00</td>\n",
       "      <td>71</td>\n",
       "      <td>upi</td>\n",
       "      <td>2022-01-01T19:43:00</td>\n",
       "    </tr>\n",
       "    <tr>\n",
       "      <th>1</th>\n",
       "      <td>1</td>\n",
       "      <td>1</td>\n",
       "      <td>22.989396, 72.586156</td>\n",
       "      <td>8.7</td>\n",
       "      <td>17.22</td>\n",
       "      <td>30</td>\n",
       "      <td>23.044864, 72.646446</td>\n",
       "      <td>2022-01-01T21:19:00</td>\n",
       "      <td>93</td>\n",
       "      <td>cash</td>\n",
       "      <td>2022-01-01T21:49:00</td>\n",
       "    </tr>\n",
       "    <tr>\n",
       "      <th>2</th>\n",
       "      <td>1</td>\n",
       "      <td>2</td>\n",
       "      <td>23.084192, 72.529666</td>\n",
       "      <td>2.4</td>\n",
       "      <td>17.92</td>\n",
       "      <td>8</td>\n",
       "      <td>23.099364, 72.546162</td>\n",
       "      <td>2022-01-01T22:19:00</td>\n",
       "      <td>30</td>\n",
       "      <td>cash</td>\n",
       "      <td>2022-01-01T22:26:00</td>\n",
       "    </tr>\n",
       "    <tr>\n",
       "      <th>3</th>\n",
       "      <td>1</td>\n",
       "      <td>3</td>\n",
       "      <td>22.971624, 72.525195</td>\n",
       "      <td>1.5</td>\n",
       "      <td>20.19</td>\n",
       "      <td>4</td>\n",
       "      <td>22.971623, 72.539412</td>\n",
       "      <td>2022-01-01T22:38:00</td>\n",
       "      <td>21</td>\n",
       "      <td>cash</td>\n",
       "      <td>2022-01-01T22:42:00</td>\n",
       "    </tr>\n",
       "    <tr>\n",
       "      <th>4</th>\n",
       "      <td>1</td>\n",
       "      <td>4</td>\n",
       "      <td>23.059013, 72.524127</td>\n",
       "      <td>6.0</td>\n",
       "      <td>15.42</td>\n",
       "      <td>23</td>\n",
       "      <td>23.103218, 72.557781</td>\n",
       "      <td>2022-01-01T22:54:00</td>\n",
       "      <td>66</td>\n",
       "      <td>upi</td>\n",
       "      <td>2022-01-01T23:17:00</td>\n",
       "    </tr>\n",
       "  </tbody>\n",
       "</table>\n",
       "</div>"
      ],
      "text/plain": [
       "   driverId  tripId         startLocation  tripDistance  tripSpeed  \\\n",
       "0         1       0  23.067647, 72.566629           6.5      18.72   \n",
       "1         1       1  22.989396, 72.586156           8.7      17.22   \n",
       "2         1       2  23.084192, 72.529666           2.4      17.92   \n",
       "3         1       3  22.971624, 72.525195           1.5      20.19   \n",
       "4         1       4  23.059013, 72.524127           6.0      15.42   \n",
       "\n",
       "   tripDuration           endLocation            startTime  tripFare  \\\n",
       "0            21  23.125884, 72.566629  2022-01-01T19:23:00        71   \n",
       "1            30  23.044864, 72.646446  2022-01-01T21:19:00        93   \n",
       "2             8  23.099364, 72.546162  2022-01-01T22:19:00        30   \n",
       "3             4  22.971623, 72.539412  2022-01-01T22:38:00        21   \n",
       "4            23  23.103218, 72.557781  2022-01-01T22:54:00        66   \n",
       "\n",
       "  paymentType              endTime  \n",
       "0         upi  2022-01-01T19:43:00  \n",
       "1        cash  2022-01-01T21:49:00  \n",
       "2        cash  2022-01-01T22:26:00  \n",
       "3        cash  2022-01-01T22:42:00  \n",
       "4         upi  2022-01-01T23:17:00  "
      ]
     },
     "execution_count": 9,
     "metadata": {},
     "output_type": "execute_result"
    }
   ],
   "source": [
    "data.head()"
   ]
  },
  {
   "cell_type": "code",
   "execution_count": 10,
   "id": "2a461c89",
   "metadata": {},
   "outputs": [
    {
     "name": "stdout",
     "output_type": "stream",
     "text": [
      "There are 5 categorical variables\n",
      "\n",
      "The categorical variables are : ['startLocation', 'endLocation', 'startTime', 'paymentType', 'endTime']\n"
     ]
    }
   ],
   "source": [
    "# find categorical variables\n",
    "\n",
    "categorical = [var for var in data.columns if data[var].dtype=='O']\n",
    "\n",
    "print('There are {} categorical variables\\n'.format(len(categorical)))\n",
    "\n",
    "print('The categorical variables are :', categorical)"
   ]
  },
  {
   "cell_type": "code",
   "execution_count": 11,
   "id": "9ff042e5",
   "metadata": {},
   "outputs": [
    {
     "name": "stdout",
     "output_type": "stream",
     "text": [
      "There are 6 numerical variables\n",
      "\n",
      "The numerical variables are : ['driverId', 'tripId', 'tripDistance', 'tripSpeed', 'tripDuration', 'tripFare']\n"
     ]
    }
   ],
   "source": [
    "# find numerical variables\n",
    "\n",
    "numerical = [var for var in data.columns if data[var].dtype!='O']\n",
    "\n",
    "print('There are {} numerical variables\\n'.format(len(numerical)))\n",
    "\n",
    "print('The numerical variables are :', numerical)"
   ]
  },
  {
   "cell_type": "code",
   "execution_count": 13,
   "id": "a87efdb6",
   "metadata": {},
   "outputs": [
    {
     "data": {
      "text/plain": [
       "0        2022-01-01T19:23:00\n",
       "1        2022-01-01T21:19:00\n",
       "2        2022-01-01T22:19:00\n",
       "3        2022-01-01T22:38:00\n",
       "4        2022-01-01T22:54:00\n",
       "                ...         \n",
       "99012    2023-07-30T22:17:00\n",
       "99013    2023-07-30T22:56:00\n",
       "99014    2023-07-31T19:47:00\n",
       "99015    2023-07-31T22:13:00\n",
       "99016    2023-07-31T22:58:00\n",
       "Name: startTime, Length: 99017, dtype: object"
      ]
     },
     "execution_count": 13,
     "metadata": {},
     "output_type": "execute_result"
    }
   ],
   "source": [
    "data['startTime']"
   ]
  },
  {
   "cell_type": "markdown",
   "id": "c3412e33",
   "metadata": {},
   "source": [
    "##########################"
   ]
  },
  {
   "cell_type": "markdown",
   "id": "b9e4399b",
   "metadata": {},
   "source": [
    "* The \"startTime\" column is having data like - 2023-07-31T22:13:00.\n",
    "* Now, I am performing several operation on it like,\n",
    "\n",
    "1) Converts the 'startTime' column to a pandas datetime type.\n",
    "\n",
    "2) Creating Two new columns, 'start_date' and 'start_time' from the 'startTime' column.\n",
    "\n",
    "3) removing the original 'startTime' column from the DataFrame to keep only the newly created 'start_date' and 'start_time' columns."
   ]
  },
  {
   "cell_type": "code",
   "execution_count": 14,
   "id": "16c4ac83",
   "metadata": {},
   "outputs": [],
   "source": [
    "# Convert the 'datetime_column' to datetime type\n",
    "data['startTime'] = pd.to_datetime(data['startTime'])"
   ]
  },
  {
   "cell_type": "code",
   "execution_count": 15,
   "id": "3a7f2ae4",
   "metadata": {},
   "outputs": [],
   "source": [
    "# Create new columns 'start_date' and 'start_time'\n",
    "data['start_date'] = data['startTime'].dt.strftime('%Y-%m-%d')\n",
    "\n",
    "data['start_time'] = data['startTime'].dt.strftime('%H:%M:%S')\n",
    "\n",
    "data.drop(columns=['startTime'],axis=1, inplace=True)"
   ]
  },
  {
   "cell_type": "code",
   "execution_count": 16,
   "id": "a7ab8946",
   "metadata": {},
   "outputs": [
    {
     "data": {
      "text/html": [
       "<div>\n",
       "<style scoped>\n",
       "    .dataframe tbody tr th:only-of-type {\n",
       "        vertical-align: middle;\n",
       "    }\n",
       "\n",
       "    .dataframe tbody tr th {\n",
       "        vertical-align: top;\n",
       "    }\n",
       "\n",
       "    .dataframe thead th {\n",
       "        text-align: right;\n",
       "    }\n",
       "</style>\n",
       "<table border=\"1\" class=\"dataframe\">\n",
       "  <thead>\n",
       "    <tr style=\"text-align: right;\">\n",
       "      <th></th>\n",
       "      <th>driverId</th>\n",
       "      <th>tripId</th>\n",
       "      <th>startLocation</th>\n",
       "      <th>tripDistance</th>\n",
       "      <th>tripSpeed</th>\n",
       "      <th>tripDuration</th>\n",
       "      <th>endLocation</th>\n",
       "      <th>tripFare</th>\n",
       "      <th>paymentType</th>\n",
       "      <th>endTime</th>\n",
       "      <th>start_date</th>\n",
       "      <th>start_time</th>\n",
       "    </tr>\n",
       "  </thead>\n",
       "  <tbody>\n",
       "    <tr>\n",
       "      <th>0</th>\n",
       "      <td>1</td>\n",
       "      <td>0</td>\n",
       "      <td>23.067647, 72.566629</td>\n",
       "      <td>6.5</td>\n",
       "      <td>18.72</td>\n",
       "      <td>21</td>\n",
       "      <td>23.125884, 72.566629</td>\n",
       "      <td>71</td>\n",
       "      <td>upi</td>\n",
       "      <td>2022-01-01T19:43:00</td>\n",
       "      <td>2022-01-01</td>\n",
       "      <td>19:23:00</td>\n",
       "    </tr>\n",
       "    <tr>\n",
       "      <th>1</th>\n",
       "      <td>1</td>\n",
       "      <td>1</td>\n",
       "      <td>22.989396, 72.586156</td>\n",
       "      <td>8.7</td>\n",
       "      <td>17.22</td>\n",
       "      <td>30</td>\n",
       "      <td>23.044864, 72.646446</td>\n",
       "      <td>93</td>\n",
       "      <td>cash</td>\n",
       "      <td>2022-01-01T21:49:00</td>\n",
       "      <td>2022-01-01</td>\n",
       "      <td>21:19:00</td>\n",
       "    </tr>\n",
       "    <tr>\n",
       "      <th>2</th>\n",
       "      <td>1</td>\n",
       "      <td>2</td>\n",
       "      <td>23.084192, 72.529666</td>\n",
       "      <td>2.4</td>\n",
       "      <td>17.92</td>\n",
       "      <td>8</td>\n",
       "      <td>23.099364, 72.546162</td>\n",
       "      <td>30</td>\n",
       "      <td>cash</td>\n",
       "      <td>2022-01-01T22:26:00</td>\n",
       "      <td>2022-01-01</td>\n",
       "      <td>22:19:00</td>\n",
       "    </tr>\n",
       "    <tr>\n",
       "      <th>3</th>\n",
       "      <td>1</td>\n",
       "      <td>3</td>\n",
       "      <td>22.971624, 72.525195</td>\n",
       "      <td>1.5</td>\n",
       "      <td>20.19</td>\n",
       "      <td>4</td>\n",
       "      <td>22.971623, 72.539412</td>\n",
       "      <td>21</td>\n",
       "      <td>cash</td>\n",
       "      <td>2022-01-01T22:42:00</td>\n",
       "      <td>2022-01-01</td>\n",
       "      <td>22:38:00</td>\n",
       "    </tr>\n",
       "    <tr>\n",
       "      <th>4</th>\n",
       "      <td>1</td>\n",
       "      <td>4</td>\n",
       "      <td>23.059013, 72.524127</td>\n",
       "      <td>6.0</td>\n",
       "      <td>15.42</td>\n",
       "      <td>23</td>\n",
       "      <td>23.103218, 72.557781</td>\n",
       "      <td>66</td>\n",
       "      <td>upi</td>\n",
       "      <td>2022-01-01T23:17:00</td>\n",
       "      <td>2022-01-01</td>\n",
       "      <td>22:54:00</td>\n",
       "    </tr>\n",
       "  </tbody>\n",
       "</table>\n",
       "</div>"
      ],
      "text/plain": [
       "   driverId  tripId         startLocation  tripDistance  tripSpeed  \\\n",
       "0         1       0  23.067647, 72.566629           6.5      18.72   \n",
       "1         1       1  22.989396, 72.586156           8.7      17.22   \n",
       "2         1       2  23.084192, 72.529666           2.4      17.92   \n",
       "3         1       3  22.971624, 72.525195           1.5      20.19   \n",
       "4         1       4  23.059013, 72.524127           6.0      15.42   \n",
       "\n",
       "   tripDuration           endLocation  tripFare paymentType  \\\n",
       "0            21  23.125884, 72.566629        71         upi   \n",
       "1            30  23.044864, 72.646446        93        cash   \n",
       "2             8  23.099364, 72.546162        30        cash   \n",
       "3             4  22.971623, 72.539412        21        cash   \n",
       "4            23  23.103218, 72.557781        66         upi   \n",
       "\n",
       "               endTime  start_date start_time  \n",
       "0  2022-01-01T19:43:00  2022-01-01   19:23:00  \n",
       "1  2022-01-01T21:49:00  2022-01-01   21:19:00  \n",
       "2  2022-01-01T22:26:00  2022-01-01   22:19:00  \n",
       "3  2022-01-01T22:42:00  2022-01-01   22:38:00  \n",
       "4  2022-01-01T23:17:00  2022-01-01   22:54:00  "
      ]
     },
     "execution_count": 16,
     "metadata": {},
     "output_type": "execute_result"
    }
   ],
   "source": [
    "data.head()"
   ]
  },
  {
   "cell_type": "markdown",
   "id": "27503b25",
   "metadata": {},
   "source": [
    "* So, Now we have 2 new columns \"start_date\" and \"start_time\" as per above."
   ]
  },
  {
   "cell_type": "markdown",
   "id": "2fc158fb",
   "metadata": {},
   "source": [
    "* In the similar manner, will do for the column \"endTime\"."
   ]
  },
  {
   "cell_type": "code",
   "execution_count": 17,
   "id": "afebd577",
   "metadata": {},
   "outputs": [],
   "source": [
    "# Convert the 'datetime_column' to datetime type\n",
    "data['endTime'] = pd.to_datetime(data['endTime'])"
   ]
  },
  {
   "cell_type": "code",
   "execution_count": 18,
   "id": "c0598ef2",
   "metadata": {},
   "outputs": [],
   "source": [
    "# Create new columns 'start_date' and 'start_time'\n",
    "data['end_date'] = data['endTime'].dt.strftime('%Y-%m-%d')\n",
    "\n",
    "data['end_time'] = data['endTime'].dt.strftime('%H:%M:%S')\n",
    "\n",
    "data.drop(columns=['endTime'],axis=1, inplace=True)"
   ]
  },
  {
   "cell_type": "code",
   "execution_count": 19,
   "id": "5c5cf063",
   "metadata": {},
   "outputs": [
    {
     "data": {
      "text/html": [
       "<div>\n",
       "<style scoped>\n",
       "    .dataframe tbody tr th:only-of-type {\n",
       "        vertical-align: middle;\n",
       "    }\n",
       "\n",
       "    .dataframe tbody tr th {\n",
       "        vertical-align: top;\n",
       "    }\n",
       "\n",
       "    .dataframe thead th {\n",
       "        text-align: right;\n",
       "    }\n",
       "</style>\n",
       "<table border=\"1\" class=\"dataframe\">\n",
       "  <thead>\n",
       "    <tr style=\"text-align: right;\">\n",
       "      <th></th>\n",
       "      <th>driverId</th>\n",
       "      <th>tripId</th>\n",
       "      <th>startLocation</th>\n",
       "      <th>tripDistance</th>\n",
       "      <th>tripSpeed</th>\n",
       "      <th>tripDuration</th>\n",
       "      <th>endLocation</th>\n",
       "      <th>tripFare</th>\n",
       "      <th>paymentType</th>\n",
       "      <th>start_date</th>\n",
       "      <th>start_time</th>\n",
       "      <th>end_date</th>\n",
       "      <th>end_time</th>\n",
       "    </tr>\n",
       "  </thead>\n",
       "  <tbody>\n",
       "    <tr>\n",
       "      <th>0</th>\n",
       "      <td>1</td>\n",
       "      <td>0</td>\n",
       "      <td>23.067647, 72.566629</td>\n",
       "      <td>6.5</td>\n",
       "      <td>18.72</td>\n",
       "      <td>21</td>\n",
       "      <td>23.125884, 72.566629</td>\n",
       "      <td>71</td>\n",
       "      <td>upi</td>\n",
       "      <td>2022-01-01</td>\n",
       "      <td>19:23:00</td>\n",
       "      <td>2022-01-01</td>\n",
       "      <td>19:43:00</td>\n",
       "    </tr>\n",
       "    <tr>\n",
       "      <th>1</th>\n",
       "      <td>1</td>\n",
       "      <td>1</td>\n",
       "      <td>22.989396, 72.586156</td>\n",
       "      <td>8.7</td>\n",
       "      <td>17.22</td>\n",
       "      <td>30</td>\n",
       "      <td>23.044864, 72.646446</td>\n",
       "      <td>93</td>\n",
       "      <td>cash</td>\n",
       "      <td>2022-01-01</td>\n",
       "      <td>21:19:00</td>\n",
       "      <td>2022-01-01</td>\n",
       "      <td>21:49:00</td>\n",
       "    </tr>\n",
       "    <tr>\n",
       "      <th>2</th>\n",
       "      <td>1</td>\n",
       "      <td>2</td>\n",
       "      <td>23.084192, 72.529666</td>\n",
       "      <td>2.4</td>\n",
       "      <td>17.92</td>\n",
       "      <td>8</td>\n",
       "      <td>23.099364, 72.546162</td>\n",
       "      <td>30</td>\n",
       "      <td>cash</td>\n",
       "      <td>2022-01-01</td>\n",
       "      <td>22:19:00</td>\n",
       "      <td>2022-01-01</td>\n",
       "      <td>22:26:00</td>\n",
       "    </tr>\n",
       "    <tr>\n",
       "      <th>3</th>\n",
       "      <td>1</td>\n",
       "      <td>3</td>\n",
       "      <td>22.971624, 72.525195</td>\n",
       "      <td>1.5</td>\n",
       "      <td>20.19</td>\n",
       "      <td>4</td>\n",
       "      <td>22.971623, 72.539412</td>\n",
       "      <td>21</td>\n",
       "      <td>cash</td>\n",
       "      <td>2022-01-01</td>\n",
       "      <td>22:38:00</td>\n",
       "      <td>2022-01-01</td>\n",
       "      <td>22:42:00</td>\n",
       "    </tr>\n",
       "    <tr>\n",
       "      <th>4</th>\n",
       "      <td>1</td>\n",
       "      <td>4</td>\n",
       "      <td>23.059013, 72.524127</td>\n",
       "      <td>6.0</td>\n",
       "      <td>15.42</td>\n",
       "      <td>23</td>\n",
       "      <td>23.103218, 72.557781</td>\n",
       "      <td>66</td>\n",
       "      <td>upi</td>\n",
       "      <td>2022-01-01</td>\n",
       "      <td>22:54:00</td>\n",
       "      <td>2022-01-01</td>\n",
       "      <td>23:17:00</td>\n",
       "    </tr>\n",
       "  </tbody>\n",
       "</table>\n",
       "</div>"
      ],
      "text/plain": [
       "   driverId  tripId         startLocation  tripDistance  tripSpeed  \\\n",
       "0         1       0  23.067647, 72.566629           6.5      18.72   \n",
       "1         1       1  22.989396, 72.586156           8.7      17.22   \n",
       "2         1       2  23.084192, 72.529666           2.4      17.92   \n",
       "3         1       3  22.971624, 72.525195           1.5      20.19   \n",
       "4         1       4  23.059013, 72.524127           6.0      15.42   \n",
       "\n",
       "   tripDuration           endLocation  tripFare paymentType  start_date  \\\n",
       "0            21  23.125884, 72.566629        71         upi  2022-01-01   \n",
       "1            30  23.044864, 72.646446        93        cash  2022-01-01   \n",
       "2             8  23.099364, 72.546162        30        cash  2022-01-01   \n",
       "3             4  22.971623, 72.539412        21        cash  2022-01-01   \n",
       "4            23  23.103218, 72.557781        66         upi  2022-01-01   \n",
       "\n",
       "  start_time    end_date  end_time  \n",
       "0   19:23:00  2022-01-01  19:43:00  \n",
       "1   21:19:00  2022-01-01  21:49:00  \n",
       "2   22:19:00  2022-01-01  22:26:00  \n",
       "3   22:38:00  2022-01-01  22:42:00  \n",
       "4   22:54:00  2022-01-01  23:17:00  "
      ]
     },
     "execution_count": 19,
     "metadata": {},
     "output_type": "execute_result"
    }
   ],
   "source": [
    "data.head()"
   ]
  },
  {
   "cell_type": "markdown",
   "id": "c65d59e7",
   "metadata": {},
   "source": [
    "### Convert Start time column into Hour, time and Minute"
   ]
  },
  {
   "cell_type": "markdown",
   "id": "b9d98446",
   "metadata": {},
   "source": [
    "* The Column \"Start_time\" is having converting it to a datetime type, and then extracting hour, minute, and second components into separate columns"
   ]
  },
  {
   "cell_type": "code",
   "execution_count": 20,
   "id": "71e0463e",
   "metadata": {},
   "outputs": [],
   "source": [
    "converted_datetime = pd.to_datetime(data['start_time'])"
   ]
  },
  {
   "cell_type": "code",
   "execution_count": 21,
   "id": "0e9130d8",
   "metadata": {},
   "outputs": [],
   "source": [
    "# omit the milliseconds\n",
    "converted_datetime = converted_datetime.dt.strftime('%H:%M:%S')"
   ]
  },
  {
   "cell_type": "code",
   "execution_count": 22,
   "id": "f3062601",
   "metadata": {},
   "outputs": [],
   "source": [
    "# using the method strftime converts the output as string. Convert it back as type datetime.\n",
    "converted_datetime = pd.to_datetime(converted_datetime)"
   ]
  },
  {
   "cell_type": "code",
   "execution_count": 23,
   "id": "ec94b2a9",
   "metadata": {},
   "outputs": [],
   "source": [
    "data['start_time_hour'] = converted_datetime.dt.hour\n",
    "data['start_time_minute'] = converted_datetime.dt.minute\n",
    "data['start_time_second'] = converted_datetime.dt.second"
   ]
  },
  {
   "cell_type": "markdown",
   "id": "fe8030a9",
   "metadata": {},
   "source": [
    "* Time information by breaking it down into distinct hour, minute, and second components, making it more suitable for various analytical tasks."
   ]
  },
  {
   "cell_type": "code",
   "execution_count": 24,
   "id": "b623ab20",
   "metadata": {},
   "outputs": [],
   "source": [
    "data.drop(columns=['start_time'],axis=1, inplace=True)"
   ]
  },
  {
   "cell_type": "code",
   "execution_count": 25,
   "id": "71fe25a8",
   "metadata": {},
   "outputs": [
    {
     "data": {
      "text/html": [
       "<div>\n",
       "<style scoped>\n",
       "    .dataframe tbody tr th:only-of-type {\n",
       "        vertical-align: middle;\n",
       "    }\n",
       "\n",
       "    .dataframe tbody tr th {\n",
       "        vertical-align: top;\n",
       "    }\n",
       "\n",
       "    .dataframe thead th {\n",
       "        text-align: right;\n",
       "    }\n",
       "</style>\n",
       "<table border=\"1\" class=\"dataframe\">\n",
       "  <thead>\n",
       "    <tr style=\"text-align: right;\">\n",
       "      <th></th>\n",
       "      <th>driverId</th>\n",
       "      <th>tripId</th>\n",
       "      <th>startLocation</th>\n",
       "      <th>tripDistance</th>\n",
       "      <th>tripSpeed</th>\n",
       "      <th>tripDuration</th>\n",
       "      <th>endLocation</th>\n",
       "      <th>tripFare</th>\n",
       "      <th>paymentType</th>\n",
       "      <th>start_date</th>\n",
       "      <th>end_date</th>\n",
       "      <th>end_time</th>\n",
       "      <th>start_time_hour</th>\n",
       "      <th>start_time_minute</th>\n",
       "      <th>start_time_second</th>\n",
       "    </tr>\n",
       "  </thead>\n",
       "  <tbody>\n",
       "    <tr>\n",
       "      <th>0</th>\n",
       "      <td>1</td>\n",
       "      <td>0</td>\n",
       "      <td>23.067647, 72.566629</td>\n",
       "      <td>6.5</td>\n",
       "      <td>18.72</td>\n",
       "      <td>21</td>\n",
       "      <td>23.125884, 72.566629</td>\n",
       "      <td>71</td>\n",
       "      <td>upi</td>\n",
       "      <td>2022-01-01</td>\n",
       "      <td>2022-01-01</td>\n",
       "      <td>19:43:00</td>\n",
       "      <td>19</td>\n",
       "      <td>23</td>\n",
       "      <td>0</td>\n",
       "    </tr>\n",
       "    <tr>\n",
       "      <th>1</th>\n",
       "      <td>1</td>\n",
       "      <td>1</td>\n",
       "      <td>22.989396, 72.586156</td>\n",
       "      <td>8.7</td>\n",
       "      <td>17.22</td>\n",
       "      <td>30</td>\n",
       "      <td>23.044864, 72.646446</td>\n",
       "      <td>93</td>\n",
       "      <td>cash</td>\n",
       "      <td>2022-01-01</td>\n",
       "      <td>2022-01-01</td>\n",
       "      <td>21:49:00</td>\n",
       "      <td>21</td>\n",
       "      <td>19</td>\n",
       "      <td>0</td>\n",
       "    </tr>\n",
       "    <tr>\n",
       "      <th>2</th>\n",
       "      <td>1</td>\n",
       "      <td>2</td>\n",
       "      <td>23.084192, 72.529666</td>\n",
       "      <td>2.4</td>\n",
       "      <td>17.92</td>\n",
       "      <td>8</td>\n",
       "      <td>23.099364, 72.546162</td>\n",
       "      <td>30</td>\n",
       "      <td>cash</td>\n",
       "      <td>2022-01-01</td>\n",
       "      <td>2022-01-01</td>\n",
       "      <td>22:26:00</td>\n",
       "      <td>22</td>\n",
       "      <td>19</td>\n",
       "      <td>0</td>\n",
       "    </tr>\n",
       "    <tr>\n",
       "      <th>3</th>\n",
       "      <td>1</td>\n",
       "      <td>3</td>\n",
       "      <td>22.971624, 72.525195</td>\n",
       "      <td>1.5</td>\n",
       "      <td>20.19</td>\n",
       "      <td>4</td>\n",
       "      <td>22.971623, 72.539412</td>\n",
       "      <td>21</td>\n",
       "      <td>cash</td>\n",
       "      <td>2022-01-01</td>\n",
       "      <td>2022-01-01</td>\n",
       "      <td>22:42:00</td>\n",
       "      <td>22</td>\n",
       "      <td>38</td>\n",
       "      <td>0</td>\n",
       "    </tr>\n",
       "    <tr>\n",
       "      <th>4</th>\n",
       "      <td>1</td>\n",
       "      <td>4</td>\n",
       "      <td>23.059013, 72.524127</td>\n",
       "      <td>6.0</td>\n",
       "      <td>15.42</td>\n",
       "      <td>23</td>\n",
       "      <td>23.103218, 72.557781</td>\n",
       "      <td>66</td>\n",
       "      <td>upi</td>\n",
       "      <td>2022-01-01</td>\n",
       "      <td>2022-01-01</td>\n",
       "      <td>23:17:00</td>\n",
       "      <td>22</td>\n",
       "      <td>54</td>\n",
       "      <td>0</td>\n",
       "    </tr>\n",
       "  </tbody>\n",
       "</table>\n",
       "</div>"
      ],
      "text/plain": [
       "   driverId  tripId         startLocation  tripDistance  tripSpeed  \\\n",
       "0         1       0  23.067647, 72.566629           6.5      18.72   \n",
       "1         1       1  22.989396, 72.586156           8.7      17.22   \n",
       "2         1       2  23.084192, 72.529666           2.4      17.92   \n",
       "3         1       3  22.971624, 72.525195           1.5      20.19   \n",
       "4         1       4  23.059013, 72.524127           6.0      15.42   \n",
       "\n",
       "   tripDuration           endLocation  tripFare paymentType  start_date  \\\n",
       "0            21  23.125884, 72.566629        71         upi  2022-01-01   \n",
       "1            30  23.044864, 72.646446        93        cash  2022-01-01   \n",
       "2             8  23.099364, 72.546162        30        cash  2022-01-01   \n",
       "3             4  22.971623, 72.539412        21        cash  2022-01-01   \n",
       "4            23  23.103218, 72.557781        66         upi  2022-01-01   \n",
       "\n",
       "     end_date  end_time  start_time_hour  start_time_minute  start_time_second  \n",
       "0  2022-01-01  19:43:00               19                 23                  0  \n",
       "1  2022-01-01  21:49:00               21                 19                  0  \n",
       "2  2022-01-01  22:26:00               22                 19                  0  \n",
       "3  2022-01-01  22:42:00               22                 38                  0  \n",
       "4  2022-01-01  23:17:00               22                 54                  0  "
      ]
     },
     "execution_count": 25,
     "metadata": {},
     "output_type": "execute_result"
    }
   ],
   "source": [
    "data.head()"
   ]
  },
  {
   "cell_type": "markdown",
   "id": "95405908",
   "metadata": {},
   "source": [
    "### Convert End time column into Hour, time and Minute"
   ]
  },
  {
   "cell_type": "code",
   "execution_count": 26,
   "id": "cd7fbf12",
   "metadata": {},
   "outputs": [],
   "source": [
    "# convert to variable type datetime\n",
    "converted_datetime = pd.to_datetime(data['end_time'])\n",
    "\n",
    "# omit the milliseconds\n",
    "converted_datetime = converted_datetime.dt.strftime('%H:%M:%S')"
   ]
  },
  {
   "cell_type": "code",
   "execution_count": 27,
   "id": "759f0404",
   "metadata": {},
   "outputs": [],
   "source": [
    "# using the method strftime converts the output as string. Convert it back as type datetime.\n",
    "converted_datetime = pd.to_datetime(converted_datetime)"
   ]
  },
  {
   "cell_type": "code",
   "execution_count": 28,
   "id": "513b9434",
   "metadata": {},
   "outputs": [],
   "source": [
    "data['end_time_hour'] = converted_datetime.dt.hour\n",
    "data['end_time_minute'] = converted_datetime.dt.minute\n",
    "data['end_time_second'] = converted_datetime.dt.second"
   ]
  },
  {
   "cell_type": "code",
   "execution_count": 29,
   "id": "d2f2a6c8",
   "metadata": {},
   "outputs": [
    {
     "data": {
      "text/html": [
       "<div>\n",
       "<style scoped>\n",
       "    .dataframe tbody tr th:only-of-type {\n",
       "        vertical-align: middle;\n",
       "    }\n",
       "\n",
       "    .dataframe tbody tr th {\n",
       "        vertical-align: top;\n",
       "    }\n",
       "\n",
       "    .dataframe thead th {\n",
       "        text-align: right;\n",
       "    }\n",
       "</style>\n",
       "<table border=\"1\" class=\"dataframe\">\n",
       "  <thead>\n",
       "    <tr style=\"text-align: right;\">\n",
       "      <th></th>\n",
       "      <th>driverId</th>\n",
       "      <th>tripId</th>\n",
       "      <th>startLocation</th>\n",
       "      <th>tripDistance</th>\n",
       "      <th>tripSpeed</th>\n",
       "      <th>tripDuration</th>\n",
       "      <th>endLocation</th>\n",
       "      <th>tripFare</th>\n",
       "      <th>paymentType</th>\n",
       "      <th>start_date</th>\n",
       "      <th>end_date</th>\n",
       "      <th>end_time</th>\n",
       "      <th>start_time_hour</th>\n",
       "      <th>start_time_minute</th>\n",
       "      <th>start_time_second</th>\n",
       "      <th>end_time_hour</th>\n",
       "      <th>end_time_minute</th>\n",
       "      <th>end_time_second</th>\n",
       "    </tr>\n",
       "  </thead>\n",
       "  <tbody>\n",
       "    <tr>\n",
       "      <th>0</th>\n",
       "      <td>1</td>\n",
       "      <td>0</td>\n",
       "      <td>23.067647, 72.566629</td>\n",
       "      <td>6.5</td>\n",
       "      <td>18.72</td>\n",
       "      <td>21</td>\n",
       "      <td>23.125884, 72.566629</td>\n",
       "      <td>71</td>\n",
       "      <td>upi</td>\n",
       "      <td>2022-01-01</td>\n",
       "      <td>2022-01-01</td>\n",
       "      <td>19:43:00</td>\n",
       "      <td>19</td>\n",
       "      <td>23</td>\n",
       "      <td>0</td>\n",
       "      <td>19</td>\n",
       "      <td>43</td>\n",
       "      <td>0</td>\n",
       "    </tr>\n",
       "    <tr>\n",
       "      <th>1</th>\n",
       "      <td>1</td>\n",
       "      <td>1</td>\n",
       "      <td>22.989396, 72.586156</td>\n",
       "      <td>8.7</td>\n",
       "      <td>17.22</td>\n",
       "      <td>30</td>\n",
       "      <td>23.044864, 72.646446</td>\n",
       "      <td>93</td>\n",
       "      <td>cash</td>\n",
       "      <td>2022-01-01</td>\n",
       "      <td>2022-01-01</td>\n",
       "      <td>21:49:00</td>\n",
       "      <td>21</td>\n",
       "      <td>19</td>\n",
       "      <td>0</td>\n",
       "      <td>21</td>\n",
       "      <td>49</td>\n",
       "      <td>0</td>\n",
       "    </tr>\n",
       "    <tr>\n",
       "      <th>2</th>\n",
       "      <td>1</td>\n",
       "      <td>2</td>\n",
       "      <td>23.084192, 72.529666</td>\n",
       "      <td>2.4</td>\n",
       "      <td>17.92</td>\n",
       "      <td>8</td>\n",
       "      <td>23.099364, 72.546162</td>\n",
       "      <td>30</td>\n",
       "      <td>cash</td>\n",
       "      <td>2022-01-01</td>\n",
       "      <td>2022-01-01</td>\n",
       "      <td>22:26:00</td>\n",
       "      <td>22</td>\n",
       "      <td>19</td>\n",
       "      <td>0</td>\n",
       "      <td>22</td>\n",
       "      <td>26</td>\n",
       "      <td>0</td>\n",
       "    </tr>\n",
       "    <tr>\n",
       "      <th>3</th>\n",
       "      <td>1</td>\n",
       "      <td>3</td>\n",
       "      <td>22.971624, 72.525195</td>\n",
       "      <td>1.5</td>\n",
       "      <td>20.19</td>\n",
       "      <td>4</td>\n",
       "      <td>22.971623, 72.539412</td>\n",
       "      <td>21</td>\n",
       "      <td>cash</td>\n",
       "      <td>2022-01-01</td>\n",
       "      <td>2022-01-01</td>\n",
       "      <td>22:42:00</td>\n",
       "      <td>22</td>\n",
       "      <td>38</td>\n",
       "      <td>0</td>\n",
       "      <td>22</td>\n",
       "      <td>42</td>\n",
       "      <td>0</td>\n",
       "    </tr>\n",
       "    <tr>\n",
       "      <th>4</th>\n",
       "      <td>1</td>\n",
       "      <td>4</td>\n",
       "      <td>23.059013, 72.524127</td>\n",
       "      <td>6.0</td>\n",
       "      <td>15.42</td>\n",
       "      <td>23</td>\n",
       "      <td>23.103218, 72.557781</td>\n",
       "      <td>66</td>\n",
       "      <td>upi</td>\n",
       "      <td>2022-01-01</td>\n",
       "      <td>2022-01-01</td>\n",
       "      <td>23:17:00</td>\n",
       "      <td>22</td>\n",
       "      <td>54</td>\n",
       "      <td>0</td>\n",
       "      <td>23</td>\n",
       "      <td>17</td>\n",
       "      <td>0</td>\n",
       "    </tr>\n",
       "  </tbody>\n",
       "</table>\n",
       "</div>"
      ],
      "text/plain": [
       "   driverId  tripId         startLocation  tripDistance  tripSpeed  \\\n",
       "0         1       0  23.067647, 72.566629           6.5      18.72   \n",
       "1         1       1  22.989396, 72.586156           8.7      17.22   \n",
       "2         1       2  23.084192, 72.529666           2.4      17.92   \n",
       "3         1       3  22.971624, 72.525195           1.5      20.19   \n",
       "4         1       4  23.059013, 72.524127           6.0      15.42   \n",
       "\n",
       "   tripDuration           endLocation  tripFare paymentType  start_date  \\\n",
       "0            21  23.125884, 72.566629        71         upi  2022-01-01   \n",
       "1            30  23.044864, 72.646446        93        cash  2022-01-01   \n",
       "2             8  23.099364, 72.546162        30        cash  2022-01-01   \n",
       "3             4  22.971623, 72.539412        21        cash  2022-01-01   \n",
       "4            23  23.103218, 72.557781        66         upi  2022-01-01   \n",
       "\n",
       "     end_date  end_time  start_time_hour  start_time_minute  \\\n",
       "0  2022-01-01  19:43:00               19                 23   \n",
       "1  2022-01-01  21:49:00               21                 19   \n",
       "2  2022-01-01  22:26:00               22                 19   \n",
       "3  2022-01-01  22:42:00               22                 38   \n",
       "4  2022-01-01  23:17:00               22                 54   \n",
       "\n",
       "   start_time_second  end_time_hour  end_time_minute  end_time_second  \n",
       "0                  0             19               43                0  \n",
       "1                  0             21               49                0  \n",
       "2                  0             22               26                0  \n",
       "3                  0             22               42                0  \n",
       "4                  0             23               17                0  "
      ]
     },
     "execution_count": 29,
     "metadata": {},
     "output_type": "execute_result"
    }
   ],
   "source": [
    "data.head()"
   ]
  },
  {
   "cell_type": "code",
   "execution_count": 30,
   "id": "b590c255",
   "metadata": {},
   "outputs": [],
   "source": [
    "data.drop(columns=['end_time'],axis=1, inplace=True)"
   ]
  },
  {
   "cell_type": "code",
   "execution_count": 31,
   "id": "d6bd5368",
   "metadata": {},
   "outputs": [
    {
     "data": {
      "text/html": [
       "<div>\n",
       "<style scoped>\n",
       "    .dataframe tbody tr th:only-of-type {\n",
       "        vertical-align: middle;\n",
       "    }\n",
       "\n",
       "    .dataframe tbody tr th {\n",
       "        vertical-align: top;\n",
       "    }\n",
       "\n",
       "    .dataframe thead th {\n",
       "        text-align: right;\n",
       "    }\n",
       "</style>\n",
       "<table border=\"1\" class=\"dataframe\">\n",
       "  <thead>\n",
       "    <tr style=\"text-align: right;\">\n",
       "      <th></th>\n",
       "      <th>driverId</th>\n",
       "      <th>tripId</th>\n",
       "      <th>startLocation</th>\n",
       "      <th>tripDistance</th>\n",
       "      <th>tripSpeed</th>\n",
       "      <th>tripDuration</th>\n",
       "      <th>endLocation</th>\n",
       "      <th>tripFare</th>\n",
       "      <th>paymentType</th>\n",
       "      <th>start_date</th>\n",
       "      <th>end_date</th>\n",
       "      <th>start_time_hour</th>\n",
       "      <th>start_time_minute</th>\n",
       "      <th>start_time_second</th>\n",
       "      <th>end_time_hour</th>\n",
       "      <th>end_time_minute</th>\n",
       "      <th>end_time_second</th>\n",
       "    </tr>\n",
       "  </thead>\n",
       "  <tbody>\n",
       "    <tr>\n",
       "      <th>0</th>\n",
       "      <td>1</td>\n",
       "      <td>0</td>\n",
       "      <td>23.067647, 72.566629</td>\n",
       "      <td>6.5</td>\n",
       "      <td>18.72</td>\n",
       "      <td>21</td>\n",
       "      <td>23.125884, 72.566629</td>\n",
       "      <td>71</td>\n",
       "      <td>upi</td>\n",
       "      <td>2022-01-01</td>\n",
       "      <td>2022-01-01</td>\n",
       "      <td>19</td>\n",
       "      <td>23</td>\n",
       "      <td>0</td>\n",
       "      <td>19</td>\n",
       "      <td>43</td>\n",
       "      <td>0</td>\n",
       "    </tr>\n",
       "    <tr>\n",
       "      <th>1</th>\n",
       "      <td>1</td>\n",
       "      <td>1</td>\n",
       "      <td>22.989396, 72.586156</td>\n",
       "      <td>8.7</td>\n",
       "      <td>17.22</td>\n",
       "      <td>30</td>\n",
       "      <td>23.044864, 72.646446</td>\n",
       "      <td>93</td>\n",
       "      <td>cash</td>\n",
       "      <td>2022-01-01</td>\n",
       "      <td>2022-01-01</td>\n",
       "      <td>21</td>\n",
       "      <td>19</td>\n",
       "      <td>0</td>\n",
       "      <td>21</td>\n",
       "      <td>49</td>\n",
       "      <td>0</td>\n",
       "    </tr>\n",
       "    <tr>\n",
       "      <th>2</th>\n",
       "      <td>1</td>\n",
       "      <td>2</td>\n",
       "      <td>23.084192, 72.529666</td>\n",
       "      <td>2.4</td>\n",
       "      <td>17.92</td>\n",
       "      <td>8</td>\n",
       "      <td>23.099364, 72.546162</td>\n",
       "      <td>30</td>\n",
       "      <td>cash</td>\n",
       "      <td>2022-01-01</td>\n",
       "      <td>2022-01-01</td>\n",
       "      <td>22</td>\n",
       "      <td>19</td>\n",
       "      <td>0</td>\n",
       "      <td>22</td>\n",
       "      <td>26</td>\n",
       "      <td>0</td>\n",
       "    </tr>\n",
       "    <tr>\n",
       "      <th>3</th>\n",
       "      <td>1</td>\n",
       "      <td>3</td>\n",
       "      <td>22.971624, 72.525195</td>\n",
       "      <td>1.5</td>\n",
       "      <td>20.19</td>\n",
       "      <td>4</td>\n",
       "      <td>22.971623, 72.539412</td>\n",
       "      <td>21</td>\n",
       "      <td>cash</td>\n",
       "      <td>2022-01-01</td>\n",
       "      <td>2022-01-01</td>\n",
       "      <td>22</td>\n",
       "      <td>38</td>\n",
       "      <td>0</td>\n",
       "      <td>22</td>\n",
       "      <td>42</td>\n",
       "      <td>0</td>\n",
       "    </tr>\n",
       "    <tr>\n",
       "      <th>4</th>\n",
       "      <td>1</td>\n",
       "      <td>4</td>\n",
       "      <td>23.059013, 72.524127</td>\n",
       "      <td>6.0</td>\n",
       "      <td>15.42</td>\n",
       "      <td>23</td>\n",
       "      <td>23.103218, 72.557781</td>\n",
       "      <td>66</td>\n",
       "      <td>upi</td>\n",
       "      <td>2022-01-01</td>\n",
       "      <td>2022-01-01</td>\n",
       "      <td>22</td>\n",
       "      <td>54</td>\n",
       "      <td>0</td>\n",
       "      <td>23</td>\n",
       "      <td>17</td>\n",
       "      <td>0</td>\n",
       "    </tr>\n",
       "  </tbody>\n",
       "</table>\n",
       "</div>"
      ],
      "text/plain": [
       "   driverId  tripId         startLocation  tripDistance  tripSpeed  \\\n",
       "0         1       0  23.067647, 72.566629           6.5      18.72   \n",
       "1         1       1  22.989396, 72.586156           8.7      17.22   \n",
       "2         1       2  23.084192, 72.529666           2.4      17.92   \n",
       "3         1       3  22.971624, 72.525195           1.5      20.19   \n",
       "4         1       4  23.059013, 72.524127           6.0      15.42   \n",
       "\n",
       "   tripDuration           endLocation  tripFare paymentType  start_date  \\\n",
       "0            21  23.125884, 72.566629        71         upi  2022-01-01   \n",
       "1            30  23.044864, 72.646446        93        cash  2022-01-01   \n",
       "2             8  23.099364, 72.546162        30        cash  2022-01-01   \n",
       "3             4  22.971623, 72.539412        21        cash  2022-01-01   \n",
       "4            23  23.103218, 72.557781        66         upi  2022-01-01   \n",
       "\n",
       "     end_date  start_time_hour  start_time_minute  start_time_second  \\\n",
       "0  2022-01-01               19                 23                  0   \n",
       "1  2022-01-01               21                 19                  0   \n",
       "2  2022-01-01               22                 19                  0   \n",
       "3  2022-01-01               22                 38                  0   \n",
       "4  2022-01-01               22                 54                  0   \n",
       "\n",
       "   end_time_hour  end_time_minute  end_time_second  \n",
       "0             19               43                0  \n",
       "1             21               49                0  \n",
       "2             22               26                0  \n",
       "3             22               42                0  \n",
       "4             23               17                0  "
      ]
     },
     "execution_count": 31,
     "metadata": {},
     "output_type": "execute_result"
    }
   ],
   "source": [
    "data.head()"
   ]
  },
  {
   "cell_type": "code",
   "execution_count": 32,
   "id": "06a79c20",
   "metadata": {},
   "outputs": [
    {
     "data": {
      "text/plain": [
       "(99017, 17)"
      ]
     },
     "execution_count": 32,
     "metadata": {},
     "output_type": "execute_result"
    }
   ],
   "source": [
    "data.shape"
   ]
  },
  {
   "cell_type": "code",
   "execution_count": 33,
   "id": "a1627a58",
   "metadata": {},
   "outputs": [
    {
     "data": {
      "text/plain": [
       "Index(['driverId', 'tripId', 'startLocation', 'tripDistance', 'tripSpeed',\n",
       "       'tripDuration', 'endLocation', 'tripFare', 'paymentType', 'start_date',\n",
       "       'end_date', 'start_time_hour', 'start_time_minute', 'start_time_second',\n",
       "       'end_time_hour', 'end_time_minute', 'end_time_second'],\n",
       "      dtype='object')"
      ]
     },
     "execution_count": 33,
     "metadata": {},
     "output_type": "execute_result"
    }
   ],
   "source": [
    "col_name = data.columns\n",
    "col_name"
   ]
  },
  {
   "cell_type": "code",
   "execution_count": 34,
   "id": "6aa7b064",
   "metadata": {},
   "outputs": [
    {
     "name": "stdout",
     "output_type": "stream",
     "text": [
      "[0]\n"
     ]
    }
   ],
   "source": [
    "print(data.start_time_second.unique())"
   ]
  },
  {
   "cell_type": "markdown",
   "id": "c6ef79c6",
   "metadata": {},
   "source": [
    "* Removing \"Seconds\" from the dataset.\n",
    "* As it has all the values as \"0\" only."
   ]
  },
  {
   "cell_type": "code",
   "execution_count": 37,
   "id": "19ef38cb",
   "metadata": {},
   "outputs": [],
   "source": [
    "data.drop(columns=['end_time_second','start_time_second'],axis=1, inplace=True)"
   ]
  },
  {
   "cell_type": "code",
   "execution_count": 38,
   "id": "c3de25c4",
   "metadata": {},
   "outputs": [
    {
     "data": {
      "text/html": [
       "<div>\n",
       "<style scoped>\n",
       "    .dataframe tbody tr th:only-of-type {\n",
       "        vertical-align: middle;\n",
       "    }\n",
       "\n",
       "    .dataframe tbody tr th {\n",
       "        vertical-align: top;\n",
       "    }\n",
       "\n",
       "    .dataframe thead th {\n",
       "        text-align: right;\n",
       "    }\n",
       "</style>\n",
       "<table border=\"1\" class=\"dataframe\">\n",
       "  <thead>\n",
       "    <tr style=\"text-align: right;\">\n",
       "      <th></th>\n",
       "      <th>driverId</th>\n",
       "      <th>tripId</th>\n",
       "      <th>startLocation</th>\n",
       "      <th>tripDistance</th>\n",
       "      <th>tripSpeed</th>\n",
       "      <th>tripDuration</th>\n",
       "      <th>endLocation</th>\n",
       "      <th>tripFare</th>\n",
       "      <th>paymentType</th>\n",
       "      <th>start_date</th>\n",
       "      <th>end_date</th>\n",
       "      <th>start_time_hour</th>\n",
       "      <th>start_time_minute</th>\n",
       "      <th>end_time_hour</th>\n",
       "      <th>end_time_minute</th>\n",
       "    </tr>\n",
       "  </thead>\n",
       "  <tbody>\n",
       "    <tr>\n",
       "      <th>0</th>\n",
       "      <td>1</td>\n",
       "      <td>0</td>\n",
       "      <td>23.067647, 72.566629</td>\n",
       "      <td>6.5</td>\n",
       "      <td>18.72</td>\n",
       "      <td>21</td>\n",
       "      <td>23.125884, 72.566629</td>\n",
       "      <td>71</td>\n",
       "      <td>upi</td>\n",
       "      <td>2022-01-01</td>\n",
       "      <td>2022-01-01</td>\n",
       "      <td>19</td>\n",
       "      <td>23</td>\n",
       "      <td>19</td>\n",
       "      <td>43</td>\n",
       "    </tr>\n",
       "    <tr>\n",
       "      <th>1</th>\n",
       "      <td>1</td>\n",
       "      <td>1</td>\n",
       "      <td>22.989396, 72.586156</td>\n",
       "      <td>8.7</td>\n",
       "      <td>17.22</td>\n",
       "      <td>30</td>\n",
       "      <td>23.044864, 72.646446</td>\n",
       "      <td>93</td>\n",
       "      <td>cash</td>\n",
       "      <td>2022-01-01</td>\n",
       "      <td>2022-01-01</td>\n",
       "      <td>21</td>\n",
       "      <td>19</td>\n",
       "      <td>21</td>\n",
       "      <td>49</td>\n",
       "    </tr>\n",
       "    <tr>\n",
       "      <th>2</th>\n",
       "      <td>1</td>\n",
       "      <td>2</td>\n",
       "      <td>23.084192, 72.529666</td>\n",
       "      <td>2.4</td>\n",
       "      <td>17.92</td>\n",
       "      <td>8</td>\n",
       "      <td>23.099364, 72.546162</td>\n",
       "      <td>30</td>\n",
       "      <td>cash</td>\n",
       "      <td>2022-01-01</td>\n",
       "      <td>2022-01-01</td>\n",
       "      <td>22</td>\n",
       "      <td>19</td>\n",
       "      <td>22</td>\n",
       "      <td>26</td>\n",
       "    </tr>\n",
       "    <tr>\n",
       "      <th>3</th>\n",
       "      <td>1</td>\n",
       "      <td>3</td>\n",
       "      <td>22.971624, 72.525195</td>\n",
       "      <td>1.5</td>\n",
       "      <td>20.19</td>\n",
       "      <td>4</td>\n",
       "      <td>22.971623, 72.539412</td>\n",
       "      <td>21</td>\n",
       "      <td>cash</td>\n",
       "      <td>2022-01-01</td>\n",
       "      <td>2022-01-01</td>\n",
       "      <td>22</td>\n",
       "      <td>38</td>\n",
       "      <td>22</td>\n",
       "      <td>42</td>\n",
       "    </tr>\n",
       "    <tr>\n",
       "      <th>4</th>\n",
       "      <td>1</td>\n",
       "      <td>4</td>\n",
       "      <td>23.059013, 72.524127</td>\n",
       "      <td>6.0</td>\n",
       "      <td>15.42</td>\n",
       "      <td>23</td>\n",
       "      <td>23.103218, 72.557781</td>\n",
       "      <td>66</td>\n",
       "      <td>upi</td>\n",
       "      <td>2022-01-01</td>\n",
       "      <td>2022-01-01</td>\n",
       "      <td>22</td>\n",
       "      <td>54</td>\n",
       "      <td>23</td>\n",
       "      <td>17</td>\n",
       "    </tr>\n",
       "  </tbody>\n",
       "</table>\n",
       "</div>"
      ],
      "text/plain": [
       "   driverId  tripId         startLocation  tripDistance  tripSpeed  \\\n",
       "0         1       0  23.067647, 72.566629           6.5      18.72   \n",
       "1         1       1  22.989396, 72.586156           8.7      17.22   \n",
       "2         1       2  23.084192, 72.529666           2.4      17.92   \n",
       "3         1       3  22.971624, 72.525195           1.5      20.19   \n",
       "4         1       4  23.059013, 72.524127           6.0      15.42   \n",
       "\n",
       "   tripDuration           endLocation  tripFare paymentType  start_date  \\\n",
       "0            21  23.125884, 72.566629        71         upi  2022-01-01   \n",
       "1            30  23.044864, 72.646446        93        cash  2022-01-01   \n",
       "2             8  23.099364, 72.546162        30        cash  2022-01-01   \n",
       "3             4  22.971623, 72.539412        21        cash  2022-01-01   \n",
       "4            23  23.103218, 72.557781        66         upi  2022-01-01   \n",
       "\n",
       "     end_date  start_time_hour  start_time_minute  end_time_hour  \\\n",
       "0  2022-01-01               19                 23             19   \n",
       "1  2022-01-01               21                 19             21   \n",
       "2  2022-01-01               22                 19             22   \n",
       "3  2022-01-01               22                 38             22   \n",
       "4  2022-01-01               22                 54             23   \n",
       "\n",
       "   end_time_minute  \n",
       "0               43  \n",
       "1               49  \n",
       "2               26  \n",
       "3               42  \n",
       "4               17  "
      ]
     },
     "execution_count": 38,
     "metadata": {},
     "output_type": "execute_result"
    }
   ],
   "source": [
    "data.head()"
   ]
  },
  {
   "cell_type": "markdown",
   "id": "d8f6c7d0",
   "metadata": {},
   "source": [
    "### Split the 'startLocation' column into 'startLatitude' and 'startLongitude'"
   ]
  },
  {
   "cell_type": "code",
   "execution_count": 39,
   "id": "68af2dc8",
   "metadata": {},
   "outputs": [],
   "source": [
    "# Split the 'startLocation' column into 'startLatitude' and 'startLongitude'\n",
    "\n",
    "data[['startLatitude', 'startLongitude']] = data['startLocation'].str.split(', ', expand=True)"
   ]
  },
  {
   "cell_type": "code",
   "execution_count": 40,
   "id": "bc41b2bd",
   "metadata": {},
   "outputs": [
    {
     "data": {
      "text/html": [
       "<div>\n",
       "<style scoped>\n",
       "    .dataframe tbody tr th:only-of-type {\n",
       "        vertical-align: middle;\n",
       "    }\n",
       "\n",
       "    .dataframe tbody tr th {\n",
       "        vertical-align: top;\n",
       "    }\n",
       "\n",
       "    .dataframe thead th {\n",
       "        text-align: right;\n",
       "    }\n",
       "</style>\n",
       "<table border=\"1\" class=\"dataframe\">\n",
       "  <thead>\n",
       "    <tr style=\"text-align: right;\">\n",
       "      <th></th>\n",
       "      <th>driverId</th>\n",
       "      <th>tripId</th>\n",
       "      <th>startLocation</th>\n",
       "      <th>tripDistance</th>\n",
       "      <th>tripSpeed</th>\n",
       "      <th>tripDuration</th>\n",
       "      <th>endLocation</th>\n",
       "      <th>tripFare</th>\n",
       "      <th>paymentType</th>\n",
       "      <th>start_date</th>\n",
       "      <th>end_date</th>\n",
       "      <th>start_time_hour</th>\n",
       "      <th>start_time_minute</th>\n",
       "      <th>end_time_hour</th>\n",
       "      <th>end_time_minute</th>\n",
       "      <th>startLatitude</th>\n",
       "      <th>startLongitude</th>\n",
       "    </tr>\n",
       "  </thead>\n",
       "  <tbody>\n",
       "    <tr>\n",
       "      <th>0</th>\n",
       "      <td>1</td>\n",
       "      <td>0</td>\n",
       "      <td>23.067647, 72.566629</td>\n",
       "      <td>6.5</td>\n",
       "      <td>18.72</td>\n",
       "      <td>21</td>\n",
       "      <td>23.125884, 72.566629</td>\n",
       "      <td>71</td>\n",
       "      <td>upi</td>\n",
       "      <td>2022-01-01</td>\n",
       "      <td>2022-01-01</td>\n",
       "      <td>19</td>\n",
       "      <td>23</td>\n",
       "      <td>19</td>\n",
       "      <td>43</td>\n",
       "      <td>23.067647</td>\n",
       "      <td>72.566629</td>\n",
       "    </tr>\n",
       "    <tr>\n",
       "      <th>1</th>\n",
       "      <td>1</td>\n",
       "      <td>1</td>\n",
       "      <td>22.989396, 72.586156</td>\n",
       "      <td>8.7</td>\n",
       "      <td>17.22</td>\n",
       "      <td>30</td>\n",
       "      <td>23.044864, 72.646446</td>\n",
       "      <td>93</td>\n",
       "      <td>cash</td>\n",
       "      <td>2022-01-01</td>\n",
       "      <td>2022-01-01</td>\n",
       "      <td>21</td>\n",
       "      <td>19</td>\n",
       "      <td>21</td>\n",
       "      <td>49</td>\n",
       "      <td>22.989396</td>\n",
       "      <td>72.586156</td>\n",
       "    </tr>\n",
       "    <tr>\n",
       "      <th>2</th>\n",
       "      <td>1</td>\n",
       "      <td>2</td>\n",
       "      <td>23.084192, 72.529666</td>\n",
       "      <td>2.4</td>\n",
       "      <td>17.92</td>\n",
       "      <td>8</td>\n",
       "      <td>23.099364, 72.546162</td>\n",
       "      <td>30</td>\n",
       "      <td>cash</td>\n",
       "      <td>2022-01-01</td>\n",
       "      <td>2022-01-01</td>\n",
       "      <td>22</td>\n",
       "      <td>19</td>\n",
       "      <td>22</td>\n",
       "      <td>26</td>\n",
       "      <td>23.084192</td>\n",
       "      <td>72.529666</td>\n",
       "    </tr>\n",
       "    <tr>\n",
       "      <th>3</th>\n",
       "      <td>1</td>\n",
       "      <td>3</td>\n",
       "      <td>22.971624, 72.525195</td>\n",
       "      <td>1.5</td>\n",
       "      <td>20.19</td>\n",
       "      <td>4</td>\n",
       "      <td>22.971623, 72.539412</td>\n",
       "      <td>21</td>\n",
       "      <td>cash</td>\n",
       "      <td>2022-01-01</td>\n",
       "      <td>2022-01-01</td>\n",
       "      <td>22</td>\n",
       "      <td>38</td>\n",
       "      <td>22</td>\n",
       "      <td>42</td>\n",
       "      <td>22.971624</td>\n",
       "      <td>72.525195</td>\n",
       "    </tr>\n",
       "    <tr>\n",
       "      <th>4</th>\n",
       "      <td>1</td>\n",
       "      <td>4</td>\n",
       "      <td>23.059013, 72.524127</td>\n",
       "      <td>6.0</td>\n",
       "      <td>15.42</td>\n",
       "      <td>23</td>\n",
       "      <td>23.103218, 72.557781</td>\n",
       "      <td>66</td>\n",
       "      <td>upi</td>\n",
       "      <td>2022-01-01</td>\n",
       "      <td>2022-01-01</td>\n",
       "      <td>22</td>\n",
       "      <td>54</td>\n",
       "      <td>23</td>\n",
       "      <td>17</td>\n",
       "      <td>23.059013</td>\n",
       "      <td>72.524127</td>\n",
       "    </tr>\n",
       "  </tbody>\n",
       "</table>\n",
       "</div>"
      ],
      "text/plain": [
       "   driverId  tripId         startLocation  tripDistance  tripSpeed  \\\n",
       "0         1       0  23.067647, 72.566629           6.5      18.72   \n",
       "1         1       1  22.989396, 72.586156           8.7      17.22   \n",
       "2         1       2  23.084192, 72.529666           2.4      17.92   \n",
       "3         1       3  22.971624, 72.525195           1.5      20.19   \n",
       "4         1       4  23.059013, 72.524127           6.0      15.42   \n",
       "\n",
       "   tripDuration           endLocation  tripFare paymentType  start_date  \\\n",
       "0            21  23.125884, 72.566629        71         upi  2022-01-01   \n",
       "1            30  23.044864, 72.646446        93        cash  2022-01-01   \n",
       "2             8  23.099364, 72.546162        30        cash  2022-01-01   \n",
       "3             4  22.971623, 72.539412        21        cash  2022-01-01   \n",
       "4            23  23.103218, 72.557781        66         upi  2022-01-01   \n",
       "\n",
       "     end_date  start_time_hour  start_time_minute  end_time_hour  \\\n",
       "0  2022-01-01               19                 23             19   \n",
       "1  2022-01-01               21                 19             21   \n",
       "2  2022-01-01               22                 19             22   \n",
       "3  2022-01-01               22                 38             22   \n",
       "4  2022-01-01               22                 54             23   \n",
       "\n",
       "   end_time_minute startLatitude startLongitude  \n",
       "0               43     23.067647      72.566629  \n",
       "1               49     22.989396      72.586156  \n",
       "2               26     23.084192      72.529666  \n",
       "3               42     22.971624      72.525195  \n",
       "4               17     23.059013      72.524127  "
      ]
     },
     "execution_count": 40,
     "metadata": {},
     "output_type": "execute_result"
    }
   ],
   "source": [
    "data.head()"
   ]
  },
  {
   "cell_type": "markdown",
   "id": "563524e6",
   "metadata": {},
   "source": [
    "### Split the 'startLocation' column into 'startLatitude' and 'startLongitude'"
   ]
  },
  {
   "cell_type": "code",
   "execution_count": 41,
   "id": "51f4cc14",
   "metadata": {},
   "outputs": [],
   "source": [
    "# Split the 'startLocation' column into 'startLatitude' and 'startLongitude'\n",
    "data[['endLatitude', 'endLongitude']] = data['endLocation'].str.split(', ', expand=True)"
   ]
  },
  {
   "cell_type": "code",
   "execution_count": 42,
   "id": "27fc46ba",
   "metadata": {},
   "outputs": [
    {
     "data": {
      "text/html": [
       "<div>\n",
       "<style scoped>\n",
       "    .dataframe tbody tr th:only-of-type {\n",
       "        vertical-align: middle;\n",
       "    }\n",
       "\n",
       "    .dataframe tbody tr th {\n",
       "        vertical-align: top;\n",
       "    }\n",
       "\n",
       "    .dataframe thead th {\n",
       "        text-align: right;\n",
       "    }\n",
       "</style>\n",
       "<table border=\"1\" class=\"dataframe\">\n",
       "  <thead>\n",
       "    <tr style=\"text-align: right;\">\n",
       "      <th></th>\n",
       "      <th>driverId</th>\n",
       "      <th>tripId</th>\n",
       "      <th>startLocation</th>\n",
       "      <th>tripDistance</th>\n",
       "      <th>tripSpeed</th>\n",
       "      <th>tripDuration</th>\n",
       "      <th>endLocation</th>\n",
       "      <th>tripFare</th>\n",
       "      <th>paymentType</th>\n",
       "      <th>start_date</th>\n",
       "      <th>end_date</th>\n",
       "      <th>start_time_hour</th>\n",
       "      <th>start_time_minute</th>\n",
       "      <th>end_time_hour</th>\n",
       "      <th>end_time_minute</th>\n",
       "      <th>startLatitude</th>\n",
       "      <th>startLongitude</th>\n",
       "      <th>endLatitude</th>\n",
       "      <th>endLongitude</th>\n",
       "    </tr>\n",
       "  </thead>\n",
       "  <tbody>\n",
       "    <tr>\n",
       "      <th>0</th>\n",
       "      <td>1</td>\n",
       "      <td>0</td>\n",
       "      <td>23.067647, 72.566629</td>\n",
       "      <td>6.5</td>\n",
       "      <td>18.72</td>\n",
       "      <td>21</td>\n",
       "      <td>23.125884, 72.566629</td>\n",
       "      <td>71</td>\n",
       "      <td>upi</td>\n",
       "      <td>2022-01-01</td>\n",
       "      <td>2022-01-01</td>\n",
       "      <td>19</td>\n",
       "      <td>23</td>\n",
       "      <td>19</td>\n",
       "      <td>43</td>\n",
       "      <td>23.067647</td>\n",
       "      <td>72.566629</td>\n",
       "      <td>23.125884</td>\n",
       "      <td>72.566629</td>\n",
       "    </tr>\n",
       "    <tr>\n",
       "      <th>1</th>\n",
       "      <td>1</td>\n",
       "      <td>1</td>\n",
       "      <td>22.989396, 72.586156</td>\n",
       "      <td>8.7</td>\n",
       "      <td>17.22</td>\n",
       "      <td>30</td>\n",
       "      <td>23.044864, 72.646446</td>\n",
       "      <td>93</td>\n",
       "      <td>cash</td>\n",
       "      <td>2022-01-01</td>\n",
       "      <td>2022-01-01</td>\n",
       "      <td>21</td>\n",
       "      <td>19</td>\n",
       "      <td>21</td>\n",
       "      <td>49</td>\n",
       "      <td>22.989396</td>\n",
       "      <td>72.586156</td>\n",
       "      <td>23.044864</td>\n",
       "      <td>72.646446</td>\n",
       "    </tr>\n",
       "    <tr>\n",
       "      <th>2</th>\n",
       "      <td>1</td>\n",
       "      <td>2</td>\n",
       "      <td>23.084192, 72.529666</td>\n",
       "      <td>2.4</td>\n",
       "      <td>17.92</td>\n",
       "      <td>8</td>\n",
       "      <td>23.099364, 72.546162</td>\n",
       "      <td>30</td>\n",
       "      <td>cash</td>\n",
       "      <td>2022-01-01</td>\n",
       "      <td>2022-01-01</td>\n",
       "      <td>22</td>\n",
       "      <td>19</td>\n",
       "      <td>22</td>\n",
       "      <td>26</td>\n",
       "      <td>23.084192</td>\n",
       "      <td>72.529666</td>\n",
       "      <td>23.099364</td>\n",
       "      <td>72.546162</td>\n",
       "    </tr>\n",
       "    <tr>\n",
       "      <th>3</th>\n",
       "      <td>1</td>\n",
       "      <td>3</td>\n",
       "      <td>22.971624, 72.525195</td>\n",
       "      <td>1.5</td>\n",
       "      <td>20.19</td>\n",
       "      <td>4</td>\n",
       "      <td>22.971623, 72.539412</td>\n",
       "      <td>21</td>\n",
       "      <td>cash</td>\n",
       "      <td>2022-01-01</td>\n",
       "      <td>2022-01-01</td>\n",
       "      <td>22</td>\n",
       "      <td>38</td>\n",
       "      <td>22</td>\n",
       "      <td>42</td>\n",
       "      <td>22.971624</td>\n",
       "      <td>72.525195</td>\n",
       "      <td>22.971623</td>\n",
       "      <td>72.539412</td>\n",
       "    </tr>\n",
       "    <tr>\n",
       "      <th>4</th>\n",
       "      <td>1</td>\n",
       "      <td>4</td>\n",
       "      <td>23.059013, 72.524127</td>\n",
       "      <td>6.0</td>\n",
       "      <td>15.42</td>\n",
       "      <td>23</td>\n",
       "      <td>23.103218, 72.557781</td>\n",
       "      <td>66</td>\n",
       "      <td>upi</td>\n",
       "      <td>2022-01-01</td>\n",
       "      <td>2022-01-01</td>\n",
       "      <td>22</td>\n",
       "      <td>54</td>\n",
       "      <td>23</td>\n",
       "      <td>17</td>\n",
       "      <td>23.059013</td>\n",
       "      <td>72.524127</td>\n",
       "      <td>23.103218</td>\n",
       "      <td>72.557781</td>\n",
       "    </tr>\n",
       "  </tbody>\n",
       "</table>\n",
       "</div>"
      ],
      "text/plain": [
       "   driverId  tripId         startLocation  tripDistance  tripSpeed  \\\n",
       "0         1       0  23.067647, 72.566629           6.5      18.72   \n",
       "1         1       1  22.989396, 72.586156           8.7      17.22   \n",
       "2         1       2  23.084192, 72.529666           2.4      17.92   \n",
       "3         1       3  22.971624, 72.525195           1.5      20.19   \n",
       "4         1       4  23.059013, 72.524127           6.0      15.42   \n",
       "\n",
       "   tripDuration           endLocation  tripFare paymentType  start_date  \\\n",
       "0            21  23.125884, 72.566629        71         upi  2022-01-01   \n",
       "1            30  23.044864, 72.646446        93        cash  2022-01-01   \n",
       "2             8  23.099364, 72.546162        30        cash  2022-01-01   \n",
       "3             4  22.971623, 72.539412        21        cash  2022-01-01   \n",
       "4            23  23.103218, 72.557781        66         upi  2022-01-01   \n",
       "\n",
       "     end_date  start_time_hour  start_time_minute  end_time_hour  \\\n",
       "0  2022-01-01               19                 23             19   \n",
       "1  2022-01-01               21                 19             21   \n",
       "2  2022-01-01               22                 19             22   \n",
       "3  2022-01-01               22                 38             22   \n",
       "4  2022-01-01               22                 54             23   \n",
       "\n",
       "   end_time_minute startLatitude startLongitude endLatitude endLongitude  \n",
       "0               43     23.067647      72.566629   23.125884    72.566629  \n",
       "1               49     22.989396      72.586156   23.044864    72.646446  \n",
       "2               26     23.084192      72.529666   23.099364    72.546162  \n",
       "3               42     22.971624      72.525195   22.971623    72.539412  \n",
       "4               17     23.059013      72.524127   23.103218    72.557781  "
      ]
     },
     "execution_count": 42,
     "metadata": {},
     "output_type": "execute_result"
    }
   ],
   "source": [
    "data.head()"
   ]
  },
  {
   "cell_type": "code",
   "execution_count": 43,
   "id": "3b0bfba4",
   "metadata": {},
   "outputs": [],
   "source": [
    "data.drop(columns=['startLocation','endLocation','driverId','tripId'],axis=1, inplace=True)"
   ]
  },
  {
   "cell_type": "code",
   "execution_count": 44,
   "id": "9d264388",
   "metadata": {},
   "outputs": [
    {
     "data": {
      "text/html": [
       "<div>\n",
       "<style scoped>\n",
       "    .dataframe tbody tr th:only-of-type {\n",
       "        vertical-align: middle;\n",
       "    }\n",
       "\n",
       "    .dataframe tbody tr th {\n",
       "        vertical-align: top;\n",
       "    }\n",
       "\n",
       "    .dataframe thead th {\n",
       "        text-align: right;\n",
       "    }\n",
       "</style>\n",
       "<table border=\"1\" class=\"dataframe\">\n",
       "  <thead>\n",
       "    <tr style=\"text-align: right;\">\n",
       "      <th></th>\n",
       "      <th>tripDistance</th>\n",
       "      <th>tripSpeed</th>\n",
       "      <th>tripDuration</th>\n",
       "      <th>tripFare</th>\n",
       "      <th>paymentType</th>\n",
       "      <th>start_date</th>\n",
       "      <th>end_date</th>\n",
       "      <th>start_time_hour</th>\n",
       "      <th>start_time_minute</th>\n",
       "      <th>end_time_hour</th>\n",
       "      <th>end_time_minute</th>\n",
       "      <th>startLatitude</th>\n",
       "      <th>startLongitude</th>\n",
       "      <th>endLatitude</th>\n",
       "      <th>endLongitude</th>\n",
       "    </tr>\n",
       "  </thead>\n",
       "  <tbody>\n",
       "    <tr>\n",
       "      <th>0</th>\n",
       "      <td>6.5</td>\n",
       "      <td>18.72</td>\n",
       "      <td>21</td>\n",
       "      <td>71</td>\n",
       "      <td>upi</td>\n",
       "      <td>2022-01-01</td>\n",
       "      <td>2022-01-01</td>\n",
       "      <td>19</td>\n",
       "      <td>23</td>\n",
       "      <td>19</td>\n",
       "      <td>43</td>\n",
       "      <td>23.067647</td>\n",
       "      <td>72.566629</td>\n",
       "      <td>23.125884</td>\n",
       "      <td>72.566629</td>\n",
       "    </tr>\n",
       "    <tr>\n",
       "      <th>1</th>\n",
       "      <td>8.7</td>\n",
       "      <td>17.22</td>\n",
       "      <td>30</td>\n",
       "      <td>93</td>\n",
       "      <td>cash</td>\n",
       "      <td>2022-01-01</td>\n",
       "      <td>2022-01-01</td>\n",
       "      <td>21</td>\n",
       "      <td>19</td>\n",
       "      <td>21</td>\n",
       "      <td>49</td>\n",
       "      <td>22.989396</td>\n",
       "      <td>72.586156</td>\n",
       "      <td>23.044864</td>\n",
       "      <td>72.646446</td>\n",
       "    </tr>\n",
       "    <tr>\n",
       "      <th>2</th>\n",
       "      <td>2.4</td>\n",
       "      <td>17.92</td>\n",
       "      <td>8</td>\n",
       "      <td>30</td>\n",
       "      <td>cash</td>\n",
       "      <td>2022-01-01</td>\n",
       "      <td>2022-01-01</td>\n",
       "      <td>22</td>\n",
       "      <td>19</td>\n",
       "      <td>22</td>\n",
       "      <td>26</td>\n",
       "      <td>23.084192</td>\n",
       "      <td>72.529666</td>\n",
       "      <td>23.099364</td>\n",
       "      <td>72.546162</td>\n",
       "    </tr>\n",
       "    <tr>\n",
       "      <th>3</th>\n",
       "      <td>1.5</td>\n",
       "      <td>20.19</td>\n",
       "      <td>4</td>\n",
       "      <td>21</td>\n",
       "      <td>cash</td>\n",
       "      <td>2022-01-01</td>\n",
       "      <td>2022-01-01</td>\n",
       "      <td>22</td>\n",
       "      <td>38</td>\n",
       "      <td>22</td>\n",
       "      <td>42</td>\n",
       "      <td>22.971624</td>\n",
       "      <td>72.525195</td>\n",
       "      <td>22.971623</td>\n",
       "      <td>72.539412</td>\n",
       "    </tr>\n",
       "    <tr>\n",
       "      <th>4</th>\n",
       "      <td>6.0</td>\n",
       "      <td>15.42</td>\n",
       "      <td>23</td>\n",
       "      <td>66</td>\n",
       "      <td>upi</td>\n",
       "      <td>2022-01-01</td>\n",
       "      <td>2022-01-01</td>\n",
       "      <td>22</td>\n",
       "      <td>54</td>\n",
       "      <td>23</td>\n",
       "      <td>17</td>\n",
       "      <td>23.059013</td>\n",
       "      <td>72.524127</td>\n",
       "      <td>23.103218</td>\n",
       "      <td>72.557781</td>\n",
       "    </tr>\n",
       "  </tbody>\n",
       "</table>\n",
       "</div>"
      ],
      "text/plain": [
       "   tripDistance  tripSpeed  tripDuration  tripFare paymentType  start_date  \\\n",
       "0           6.5      18.72            21        71         upi  2022-01-01   \n",
       "1           8.7      17.22            30        93        cash  2022-01-01   \n",
       "2           2.4      17.92             8        30        cash  2022-01-01   \n",
       "3           1.5      20.19             4        21        cash  2022-01-01   \n",
       "4           6.0      15.42            23        66         upi  2022-01-01   \n",
       "\n",
       "     end_date  start_time_hour  start_time_minute  end_time_hour  \\\n",
       "0  2022-01-01               19                 23             19   \n",
       "1  2022-01-01               21                 19             21   \n",
       "2  2022-01-01               22                 19             22   \n",
       "3  2022-01-01               22                 38             22   \n",
       "4  2022-01-01               22                 54             23   \n",
       "\n",
       "   end_time_minute startLatitude startLongitude endLatitude endLongitude  \n",
       "0               43     23.067647      72.566629   23.125884    72.566629  \n",
       "1               49     22.989396      72.586156   23.044864    72.646446  \n",
       "2               26     23.084192      72.529666   23.099364    72.546162  \n",
       "3               42     22.971624      72.525195   22.971623    72.539412  \n",
       "4               17     23.059013      72.524127   23.103218    72.557781  "
      ]
     },
     "execution_count": 44,
     "metadata": {},
     "output_type": "execute_result"
    }
   ],
   "source": [
    "data.head()"
   ]
  },
  {
   "cell_type": "code",
   "execution_count": 45,
   "id": "c7052c62",
   "metadata": {},
   "outputs": [],
   "source": [
    "data['paymentType'] = data['paymentType'].map({'upi':1, 'cash':0})"
   ]
  },
  {
   "cell_type": "markdown",
   "id": "866c1e2c",
   "metadata": {},
   "source": [
    "* The given script is mapping values in the 'paymentType' column of a pandas DataFrame to binary values (1 for 'upi' and 0 for 'cash')"
   ]
  },
  {
   "cell_type": "code",
   "execution_count": 46,
   "id": "23d8b709",
   "metadata": {},
   "outputs": [
    {
     "data": {
      "text/html": [
       "<div>\n",
       "<style scoped>\n",
       "    .dataframe tbody tr th:only-of-type {\n",
       "        vertical-align: middle;\n",
       "    }\n",
       "\n",
       "    .dataframe tbody tr th {\n",
       "        vertical-align: top;\n",
       "    }\n",
       "\n",
       "    .dataframe thead th {\n",
       "        text-align: right;\n",
       "    }\n",
       "</style>\n",
       "<table border=\"1\" class=\"dataframe\">\n",
       "  <thead>\n",
       "    <tr style=\"text-align: right;\">\n",
       "      <th></th>\n",
       "      <th>tripDistance</th>\n",
       "      <th>tripSpeed</th>\n",
       "      <th>tripDuration</th>\n",
       "      <th>tripFare</th>\n",
       "      <th>paymentType</th>\n",
       "      <th>start_date</th>\n",
       "      <th>end_date</th>\n",
       "      <th>start_time_hour</th>\n",
       "      <th>start_time_minute</th>\n",
       "      <th>end_time_hour</th>\n",
       "      <th>end_time_minute</th>\n",
       "      <th>startLatitude</th>\n",
       "      <th>startLongitude</th>\n",
       "      <th>endLatitude</th>\n",
       "      <th>endLongitude</th>\n",
       "    </tr>\n",
       "  </thead>\n",
       "  <tbody>\n",
       "    <tr>\n",
       "      <th>0</th>\n",
       "      <td>6.5</td>\n",
       "      <td>18.72</td>\n",
       "      <td>21</td>\n",
       "      <td>71</td>\n",
       "      <td>1</td>\n",
       "      <td>2022-01-01</td>\n",
       "      <td>2022-01-01</td>\n",
       "      <td>19</td>\n",
       "      <td>23</td>\n",
       "      <td>19</td>\n",
       "      <td>43</td>\n",
       "      <td>23.067647</td>\n",
       "      <td>72.566629</td>\n",
       "      <td>23.125884</td>\n",
       "      <td>72.566629</td>\n",
       "    </tr>\n",
       "    <tr>\n",
       "      <th>1</th>\n",
       "      <td>8.7</td>\n",
       "      <td>17.22</td>\n",
       "      <td>30</td>\n",
       "      <td>93</td>\n",
       "      <td>0</td>\n",
       "      <td>2022-01-01</td>\n",
       "      <td>2022-01-01</td>\n",
       "      <td>21</td>\n",
       "      <td>19</td>\n",
       "      <td>21</td>\n",
       "      <td>49</td>\n",
       "      <td>22.989396</td>\n",
       "      <td>72.586156</td>\n",
       "      <td>23.044864</td>\n",
       "      <td>72.646446</td>\n",
       "    </tr>\n",
       "    <tr>\n",
       "      <th>2</th>\n",
       "      <td>2.4</td>\n",
       "      <td>17.92</td>\n",
       "      <td>8</td>\n",
       "      <td>30</td>\n",
       "      <td>0</td>\n",
       "      <td>2022-01-01</td>\n",
       "      <td>2022-01-01</td>\n",
       "      <td>22</td>\n",
       "      <td>19</td>\n",
       "      <td>22</td>\n",
       "      <td>26</td>\n",
       "      <td>23.084192</td>\n",
       "      <td>72.529666</td>\n",
       "      <td>23.099364</td>\n",
       "      <td>72.546162</td>\n",
       "    </tr>\n",
       "    <tr>\n",
       "      <th>3</th>\n",
       "      <td>1.5</td>\n",
       "      <td>20.19</td>\n",
       "      <td>4</td>\n",
       "      <td>21</td>\n",
       "      <td>0</td>\n",
       "      <td>2022-01-01</td>\n",
       "      <td>2022-01-01</td>\n",
       "      <td>22</td>\n",
       "      <td>38</td>\n",
       "      <td>22</td>\n",
       "      <td>42</td>\n",
       "      <td>22.971624</td>\n",
       "      <td>72.525195</td>\n",
       "      <td>22.971623</td>\n",
       "      <td>72.539412</td>\n",
       "    </tr>\n",
       "    <tr>\n",
       "      <th>4</th>\n",
       "      <td>6.0</td>\n",
       "      <td>15.42</td>\n",
       "      <td>23</td>\n",
       "      <td>66</td>\n",
       "      <td>1</td>\n",
       "      <td>2022-01-01</td>\n",
       "      <td>2022-01-01</td>\n",
       "      <td>22</td>\n",
       "      <td>54</td>\n",
       "      <td>23</td>\n",
       "      <td>17</td>\n",
       "      <td>23.059013</td>\n",
       "      <td>72.524127</td>\n",
       "      <td>23.103218</td>\n",
       "      <td>72.557781</td>\n",
       "    </tr>\n",
       "  </tbody>\n",
       "</table>\n",
       "</div>"
      ],
      "text/plain": [
       "   tripDistance  tripSpeed  tripDuration  tripFare  paymentType  start_date  \\\n",
       "0           6.5      18.72            21        71            1  2022-01-01   \n",
       "1           8.7      17.22            30        93            0  2022-01-01   \n",
       "2           2.4      17.92             8        30            0  2022-01-01   \n",
       "3           1.5      20.19             4        21            0  2022-01-01   \n",
       "4           6.0      15.42            23        66            1  2022-01-01   \n",
       "\n",
       "     end_date  start_time_hour  start_time_minute  end_time_hour  \\\n",
       "0  2022-01-01               19                 23             19   \n",
       "1  2022-01-01               21                 19             21   \n",
       "2  2022-01-01               22                 19             22   \n",
       "3  2022-01-01               22                 38             22   \n",
       "4  2022-01-01               22                 54             23   \n",
       "\n",
       "   end_time_minute startLatitude startLongitude endLatitude endLongitude  \n",
       "0               43     23.067647      72.566629   23.125884    72.566629  \n",
       "1               49     22.989396      72.586156   23.044864    72.646446  \n",
       "2               26     23.084192      72.529666   23.099364    72.546162  \n",
       "3               42     22.971624      72.525195   22.971623    72.539412  \n",
       "4               17     23.059013      72.524127   23.103218    72.557781  "
      ]
     },
     "execution_count": 46,
     "metadata": {},
     "output_type": "execute_result"
    }
   ],
   "source": [
    "data.head()"
   ]
  },
  {
   "cell_type": "markdown",
   "id": "4797c3fe",
   "metadata": {},
   "source": [
    "### Visualization of the data"
   ]
  },
  {
   "cell_type": "code",
   "execution_count": 47,
   "id": "edac2555",
   "metadata": {},
   "outputs": [],
   "source": [
    "import matplotlib.pyplot as plt\n",
    "import seaborn as sns\n",
    "\n",
    "sns.set()"
   ]
  },
  {
   "cell_type": "code",
   "execution_count": 48,
   "id": "1c5b6b70",
   "metadata": {},
   "outputs": [
    {
     "data": {
      "text/plain": [
       "Text(0.5, 1.0, 'Mode of payment')"
      ]
     },
     "execution_count": 48,
     "metadata": {},
     "output_type": "execute_result"
    },
    {
     "data": {
      "image/png": "[encoded data removed]",
      "text/plain": [
       "<Figure size 432x288 with 1 Axes>"
      ]
     },
     "metadata": {},
     "output_type": "display_data"
    }
   ],
   "source": [
    "sns.countplot(x='paymentType', data=data)\n",
    "\n",
    "plt.title('Mode of payment', fontsize=30)"
   ]
  },
  {
   "cell_type": "markdown",
   "id": "2e191bc3",
   "metadata": {},
   "source": [
    "* Number of count of mode of Payment done for Taxi ride"
   ]
  },
  {
   "cell_type": "code",
   "execution_count": 49,
   "id": "85a96363",
   "metadata": {},
   "outputs": [
    {
     "data": {
      "text/plain": [
       "<seaborn.axisgrid.FacetGrid at 0x1f83efd3b80>"
      ]
     },
     "execution_count": 49,
     "metadata": {},
     "output_type": "execute_result"
    },
    {
     "data": {
      "image/png": "[encoded data removed]",
      "text/plain": [
       "<Figure size 360x360 with 1 Axes>"
      ]
     },
     "metadata": {},
     "output_type": "display_data"
    }
   ],
   "source": [
    "# check the distribution of values in column \"ride_value\"\n",
    "\n",
    "sns.displot(data, x=\"tripFare\", kind=\"kde\")"
   ]
  },
  {
   "cell_type": "code",
   "execution_count": 50,
   "id": "fa945ace",
   "metadata": {},
   "outputs": [
    {
     "data": {
      "text/plain": [
       "<AxesSubplot:ylabel='tripDuration'>"
      ]
     },
     "execution_count": 50,
     "metadata": {},
     "output_type": "execute_result"
    },
    {
     "data": {
      "image/png": "[encoded data removed]",
      "text/plain": [
       "<Figure size 432x288 with 1 Axes>"
      ]
     },
     "metadata": {},
     "output_type": "display_data"
    }
   ],
   "source": [
    "# check the distribution of values in column \"ride_value\"\n",
    "\n",
    "sns.boxenplot(y=\"tripDuration\", data=data)"
   ]
  },
  {
   "cell_type": "markdown",
   "id": "64a80429",
   "metadata": {},
   "source": [
    "* A boxen plot is used to visualize the distribution of a continuous variable, 'tripDuration. \n",
    "* It displays information about the central tendency, spread, and shape of the distribution. \n",
    "* This Box Plot is giving an IQR values , and look like it has some outliers outside the range."
   ]
  },
  {
   "cell_type": "code",
   "execution_count": 51,
   "id": "b0a610e5",
   "metadata": {},
   "outputs": [
    {
     "data": {
      "text/plain": [
       "<AxesSubplot:ylabel='tripSpeed'>"
      ]
     },
     "execution_count": 51,
     "metadata": {},
     "output_type": "execute_result"
    },
    {
     "data": {
      "image/png": "[encoded data removed]",
      "text/plain": [
       "<Figure size 432x288 with 1 Axes>"
      ]
     },
     "metadata": {},
     "output_type": "display_data"
    }
   ],
   "source": [
    "# check the distribution of values in column \"ride_value\"\n",
    "\n",
    "sns.boxenplot(y=\"tripSpeed\", data=data)"
   ]
  },
  {
   "cell_type": "code",
   "execution_count": 52,
   "id": "6fe2fc47",
   "metadata": {},
   "outputs": [
    {
     "data": {
      "text/plain": [
       "<AxesSubplot:ylabel='tripDistance'>"
      ]
     },
     "execution_count": 52,
     "metadata": {},
     "output_type": "execute_result"
    },
    {
     "data": {
      "image/png": "[encoded data removed]",
      "text/plain": [
       "<Figure size 432x288 with 1 Axes>"
      ]
     },
     "metadata": {},
     "output_type": "display_data"
    }
   ],
   "source": [
    "# check the distribution of values in column \"ride_value\"\n",
    "\n",
    "sns.boxenplot(y=\"tripDistance\", data=data)"
   ]
  },
  {
   "cell_type": "markdown",
   "id": "6a63e26d",
   "metadata": {},
   "source": [
    "* Calculate the first quartile (Q1), third quartile (Q3), and IQR for 'tripDuration'"
   ]
  },
  {
   "cell_type": "code",
   "execution_count": 54,
   "id": "1a92cc23",
   "metadata": {},
   "outputs": [],
   "source": [
    "# Calculate the first quartile (Q1), third quartile (Q3), and IQR for 'tripDuration'\n",
    "Q1 = data['tripDuration'].quantile(0.25)\n",
    "Q3 = data['tripDuration'].quantile(0.75)\n",
    "IQR = Q3 - Q1\n",
    "\n",
    "# Define lower and upper bounds for identifying outliers based on the IQR\n",
    "lower_bound = Q1 - 1.5 * IQR\n",
    "upper_bound = Q3 + 1.5 * IQR"
   ]
  },
  {
   "cell_type": "code",
   "execution_count": 55,
   "id": "7c8d3c65",
   "metadata": {},
   "outputs": [],
   "source": [
    "# Filter out values outside the defined range\n",
    "\n",
    "data = data[(data['tripDuration'] >= lower_bound) & (data['tripDuration'] <= upper_bound)]"
   ]
  },
  {
   "cell_type": "code",
   "execution_count": 56,
   "id": "49888404",
   "metadata": {},
   "outputs": [
    {
     "data": {
      "text/plain": [
       "<AxesSubplot:ylabel='tripDuration'>"
      ]
     },
     "execution_count": 56,
     "metadata": {},
     "output_type": "execute_result"
    },
    {
     "data": {
      "image/png": "[encoded data removed]",
      "text/plain": [
       "<Figure size 432x288 with 1 Axes>"
      ]
     },
     "metadata": {},
     "output_type": "display_data"
    }
   ],
   "source": [
    "# check the distribution of values in column \"ride_value\"\n",
    "\n",
    "sns.boxenplot(y=\"tripDuration\", data=data)"
   ]
  },
  {
   "cell_type": "markdown",
   "id": "91b3e21e",
   "metadata": {},
   "source": [
    "#### Note: The size of the outliers is not significant; therefore, we can proceed forward.\n",
    "\n",
    "The boxen plot visualization of the given columns indicates that while there are some outliers, their size is not considerable. Outliers, which are data points significantly different from the majority, can sometimes impact statistical analyses or machine learning models. In this case, the relatively small size of the outliers suggests that they may not heavily influence subsequent analyses.\n",
    "\n",
    "Proceeding forward, we can take this into consideration and continue with data exploration, feature engineering, or any further steps in the analysis pipeline. It's essential to be aware of the presence of outliers and assess their impact on the specific goals of the analysis."
   ]
  },
  {
   "cell_type": "code",
   "execution_count": 58,
   "id": "1e6c0322",
   "metadata": {},
   "outputs": [
    {
     "data": {
      "text/html": [
       "<div>\n",
       "<style scoped>\n",
       "    .dataframe tbody tr th:only-of-type {\n",
       "        vertical-align: middle;\n",
       "    }\n",
       "\n",
       "    .dataframe tbody tr th {\n",
       "        vertical-align: top;\n",
       "    }\n",
       "\n",
       "    .dataframe thead th {\n",
       "        text-align: right;\n",
       "    }\n",
       "</style>\n",
       "<table border=\"1\" class=\"dataframe\">\n",
       "  <thead>\n",
       "    <tr style=\"text-align: right;\">\n",
       "      <th></th>\n",
       "      <th>tripDistance</th>\n",
       "      <th>tripSpeed</th>\n",
       "      <th>tripDuration</th>\n",
       "      <th>tripFare</th>\n",
       "      <th>paymentType</th>\n",
       "      <th>start_date</th>\n",
       "      <th>end_date</th>\n",
       "      <th>start_time_hour</th>\n",
       "      <th>start_time_minute</th>\n",
       "      <th>end_time_hour</th>\n",
       "      <th>end_time_minute</th>\n",
       "      <th>startLatitude</th>\n",
       "      <th>startLongitude</th>\n",
       "      <th>endLatitude</th>\n",
       "      <th>endLongitude</th>\n",
       "    </tr>\n",
       "  </thead>\n",
       "  <tbody>\n",
       "    <tr>\n",
       "      <th>0</th>\n",
       "      <td>6.5</td>\n",
       "      <td>18.72</td>\n",
       "      <td>21</td>\n",
       "      <td>71</td>\n",
       "      <td>1</td>\n",
       "      <td>2022-01-01</td>\n",
       "      <td>2022-01-01</td>\n",
       "      <td>19</td>\n",
       "      <td>23</td>\n",
       "      <td>19</td>\n",
       "      <td>43</td>\n",
       "      <td>23.067647</td>\n",
       "      <td>72.566629</td>\n",
       "      <td>23.125884</td>\n",
       "      <td>72.566629</td>\n",
       "    </tr>\n",
       "    <tr>\n",
       "      <th>1</th>\n",
       "      <td>8.7</td>\n",
       "      <td>17.22</td>\n",
       "      <td>30</td>\n",
       "      <td>93</td>\n",
       "      <td>0</td>\n",
       "      <td>2022-01-01</td>\n",
       "      <td>2022-01-01</td>\n",
       "      <td>21</td>\n",
       "      <td>19</td>\n",
       "      <td>21</td>\n",
       "      <td>49</td>\n",
       "      <td>22.989396</td>\n",
       "      <td>72.586156</td>\n",
       "      <td>23.044864</td>\n",
       "      <td>72.646446</td>\n",
       "    </tr>\n",
       "    <tr>\n",
       "      <th>2</th>\n",
       "      <td>2.4</td>\n",
       "      <td>17.92</td>\n",
       "      <td>8</td>\n",
       "      <td>30</td>\n",
       "      <td>0</td>\n",
       "      <td>2022-01-01</td>\n",
       "      <td>2022-01-01</td>\n",
       "      <td>22</td>\n",
       "      <td>19</td>\n",
       "      <td>22</td>\n",
       "      <td>26</td>\n",
       "      <td>23.084192</td>\n",
       "      <td>72.529666</td>\n",
       "      <td>23.099364</td>\n",
       "      <td>72.546162</td>\n",
       "    </tr>\n",
       "    <tr>\n",
       "      <th>3</th>\n",
       "      <td>1.5</td>\n",
       "      <td>20.19</td>\n",
       "      <td>4</td>\n",
       "      <td>21</td>\n",
       "      <td>0</td>\n",
       "      <td>2022-01-01</td>\n",
       "      <td>2022-01-01</td>\n",
       "      <td>22</td>\n",
       "      <td>38</td>\n",
       "      <td>22</td>\n",
       "      <td>42</td>\n",
       "      <td>22.971624</td>\n",
       "      <td>72.525195</td>\n",
       "      <td>22.971623</td>\n",
       "      <td>72.539412</td>\n",
       "    </tr>\n",
       "    <tr>\n",
       "      <th>4</th>\n",
       "      <td>6.0</td>\n",
       "      <td>15.42</td>\n",
       "      <td>23</td>\n",
       "      <td>66</td>\n",
       "      <td>1</td>\n",
       "      <td>2022-01-01</td>\n",
       "      <td>2022-01-01</td>\n",
       "      <td>22</td>\n",
       "      <td>54</td>\n",
       "      <td>23</td>\n",
       "      <td>17</td>\n",
       "      <td>23.059013</td>\n",
       "      <td>72.524127</td>\n",
       "      <td>23.103218</td>\n",
       "      <td>72.557781</td>\n",
       "    </tr>\n",
       "  </tbody>\n",
       "</table>\n",
       "</div>"
      ],
      "text/plain": [
       "   tripDistance  tripSpeed  tripDuration  tripFare  paymentType  start_date  \\\n",
       "0           6.5      18.72            21        71            1  2022-01-01   \n",
       "1           8.7      17.22            30        93            0  2022-01-01   \n",
       "2           2.4      17.92             8        30            0  2022-01-01   \n",
       "3           1.5      20.19             4        21            0  2022-01-01   \n",
       "4           6.0      15.42            23        66            1  2022-01-01   \n",
       "\n",
       "     end_date  start_time_hour  start_time_minute  end_time_hour  \\\n",
       "0  2022-01-01               19                 23             19   \n",
       "1  2022-01-01               21                 19             21   \n",
       "2  2022-01-01               22                 19             22   \n",
       "3  2022-01-01               22                 38             22   \n",
       "4  2022-01-01               22                 54             23   \n",
       "\n",
       "   end_time_minute startLatitude startLongitude endLatitude endLongitude  \n",
       "0               43     23.067647      72.566629   23.125884    72.566629  \n",
       "1               49     22.989396      72.586156   23.044864    72.646446  \n",
       "2               26     23.084192      72.529666   23.099364    72.546162  \n",
       "3               42     22.971624      72.525195   22.971623    72.539412  \n",
       "4               17     23.059013      72.524127   23.103218    72.557781  "
      ]
     },
     "execution_count": 58,
     "metadata": {},
     "output_type": "execute_result"
    }
   ],
   "source": [
    "data.head(5)"
   ]
  },
  {
   "cell_type": "code",
   "execution_count": 60,
   "id": "b835f5cf",
   "metadata": {},
   "outputs": [],
   "source": [
    "data.to_csv('dataset.csv')"
   ]
  },
  {
   "cell_type": "markdown",
   "id": "fe13cb28",
   "metadata": {},
   "source": [
    "* Now lets exports the DataFrame (data) to a CSV (Comma-Separated Values) file named 'dataset.csv'. \n",
    "* Using this file, we can the processed and modified data to a file for future use or sharing."
   ]
  },
  {
   "cell_type": "markdown",
   "id": "bc17eada",
   "metadata": {},
   "source": [
    "### Model Training"
   ]
  },
  {
   "cell_type": "code",
   "execution_count": 1,
   "id": "fa0b69df",
   "metadata": {},
   "outputs": [],
   "source": [
    "import pandas as pd\n",
    "import numpy as np\n",
    "from sklearn.model_selection import train_test_split\n",
    "from sklearn.linear_model import LinearRegression\n",
    "from xgboost import XGBRegressor\n",
    "from statsmodels.tsa.arima.model import ARIMA\n",
    "from sklearn.preprocessing import StandardScaler\n",
    "from sklearn.metrics import mean_squared_error\n",
    "from sklearn.neural_network import MLPRegressor\n",
    "from sklearn.ensemble import RandomForestRegressor\n",
    "\n",
    "from sklearn.pipeline import Pipeline"
   ]
  },
  {
   "cell_type": "markdown",
   "id": "679b9f18",
   "metadata": {},
   "source": [
    "* In the given code, I have imported several essential libraries and modules for data manipulation, machine learning, and time series analysis.\n",
    "\n",
    "\n",
    "#### Data Handling:\n",
    "* Imports pandas for efficient data manipulation and numpy for numerical operations.\n",
    "\n",
    "#### Data Splitting:\n",
    "* Utilizes train_test_split from scikit-learn for dividing datasets into training and testing sets.\n",
    "* Machine Learning Models:\n",
    "\n",
    "#### Incorporates various regression models:\n",
    "* LinearRegression for basic linear modeling.\n",
    "* XGBRegressor from XGBoost for powerful ensemble learning.\n",
    "* MLPRegressor for neural network-based regression.\n",
    "\n",
    "#### Time Series Analysis:\n",
    "\n",
    "* Imports the ARIMA model from statsmodels for time series forecasting.\n",
    "\n",
    "#### Model Evaluation:\n",
    "\n",
    "* Utilizes mean_squared_error for evaluating regression model performance.\n",
    "\n",
    "#### Workflow Streamlining:\n",
    "\n",
    "* Incorporates the Pipeline class to create a sequential processing pipeline."
   ]
  },
  {
   "cell_type": "code",
   "execution_count": 6,
   "id": "80b412bf",
   "metadata": {},
   "outputs": [],
   "source": [
    "# Load the dataset\n",
    "data_main = pd.read_csv('dataset.csv')  # Replace 'your_dataset.csv' with the actual file path"
   ]
  },
  {
   "cell_type": "code",
   "execution_count": 3,
   "id": "26db4631",
   "metadata": {},
   "outputs": [
    {
     "data": {
      "text/html": [
       "<div>\n",
       "<style scoped>\n",
       "    .dataframe tbody tr th:only-of-type {\n",
       "        vertical-align: middle;\n",
       "    }\n",
       "\n",
       "    .dataframe tbody tr th {\n",
       "        vertical-align: top;\n",
       "    }\n",
       "\n",
       "    .dataframe thead th {\n",
       "        text-align: right;\n",
       "    }\n",
       "</style>\n",
       "<table border=\"1\" class=\"dataframe\">\n",
       "  <thead>\n",
       "    <tr style=\"text-align: right;\">\n",
       "      <th></th>\n",
       "      <th>Unnamed: 0</th>\n",
       "      <th>tripDistance</th>\n",
       "      <th>tripSpeed</th>\n",
       "      <th>tripDuration</th>\n",
       "      <th>tripFare</th>\n",
       "      <th>paymentType</th>\n",
       "      <th>start_date</th>\n",
       "      <th>end_date</th>\n",
       "      <th>start_time_hour</th>\n",
       "      <th>start_time_minute</th>\n",
       "      <th>end_time_hour</th>\n",
       "      <th>end_time_minute</th>\n",
       "      <th>startLatitude</th>\n",
       "      <th>startLongitude</th>\n",
       "      <th>endLatitude</th>\n",
       "      <th>endLongitude</th>\n",
       "    </tr>\n",
       "  </thead>\n",
       "  <tbody>\n",
       "    <tr>\n",
       "      <th>0</th>\n",
       "      <td>0</td>\n",
       "      <td>6.5</td>\n",
       "      <td>18.72</td>\n",
       "      <td>21</td>\n",
       "      <td>71</td>\n",
       "      <td>1</td>\n",
       "      <td>2022-01-01</td>\n",
       "      <td>2022-01-01</td>\n",
       "      <td>19</td>\n",
       "      <td>23</td>\n",
       "      <td>19</td>\n",
       "      <td>43</td>\n",
       "      <td>23.067647</td>\n",
       "      <td>72.566629</td>\n",
       "      <td>23.125884</td>\n",
       "      <td>72.566629</td>\n",
       "    </tr>\n",
       "    <tr>\n",
       "      <th>1</th>\n",
       "      <td>1</td>\n",
       "      <td>8.7</td>\n",
       "      <td>17.22</td>\n",
       "      <td>30</td>\n",
       "      <td>93</td>\n",
       "      <td>0</td>\n",
       "      <td>2022-01-01</td>\n",
       "      <td>2022-01-01</td>\n",
       "      <td>21</td>\n",
       "      <td>19</td>\n",
       "      <td>21</td>\n",
       "      <td>49</td>\n",
       "      <td>22.989396</td>\n",
       "      <td>72.586156</td>\n",
       "      <td>23.044864</td>\n",
       "      <td>72.646446</td>\n",
       "    </tr>\n",
       "    <tr>\n",
       "      <th>2</th>\n",
       "      <td>2</td>\n",
       "      <td>2.4</td>\n",
       "      <td>17.92</td>\n",
       "      <td>8</td>\n",
       "      <td>30</td>\n",
       "      <td>0</td>\n",
       "      <td>2022-01-01</td>\n",
       "      <td>2022-01-01</td>\n",
       "      <td>22</td>\n",
       "      <td>19</td>\n",
       "      <td>22</td>\n",
       "      <td>26</td>\n",
       "      <td>23.084192</td>\n",
       "      <td>72.529666</td>\n",
       "      <td>23.099364</td>\n",
       "      <td>72.546162</td>\n",
       "    </tr>\n",
       "    <tr>\n",
       "      <th>3</th>\n",
       "      <td>3</td>\n",
       "      <td>1.5</td>\n",
       "      <td>20.19</td>\n",
       "      <td>4</td>\n",
       "      <td>21</td>\n",
       "      <td>0</td>\n",
       "      <td>2022-01-01</td>\n",
       "      <td>2022-01-01</td>\n",
       "      <td>22</td>\n",
       "      <td>38</td>\n",
       "      <td>22</td>\n",
       "      <td>42</td>\n",
       "      <td>22.971624</td>\n",
       "      <td>72.525195</td>\n",
       "      <td>22.971623</td>\n",
       "      <td>72.539412</td>\n",
       "    </tr>\n",
       "    <tr>\n",
       "      <th>4</th>\n",
       "      <td>4</td>\n",
       "      <td>6.0</td>\n",
       "      <td>15.42</td>\n",
       "      <td>23</td>\n",
       "      <td>66</td>\n",
       "      <td>1</td>\n",
       "      <td>2022-01-01</td>\n",
       "      <td>2022-01-01</td>\n",
       "      <td>22</td>\n",
       "      <td>54</td>\n",
       "      <td>23</td>\n",
       "      <td>17</td>\n",
       "      <td>23.059013</td>\n",
       "      <td>72.524127</td>\n",
       "      <td>23.103218</td>\n",
       "      <td>72.557781</td>\n",
       "    </tr>\n",
       "  </tbody>\n",
       "</table>\n",
       "</div>"
      ],
      "text/plain": [
       "   Unnamed: 0  tripDistance  tripSpeed  tripDuration  tripFare  paymentType  \\\n",
       "0           0           6.5      18.72            21        71            1   \n",
       "1           1           8.7      17.22            30        93            0   \n",
       "2           2           2.4      17.92             8        30            0   \n",
       "3           3           1.5      20.19             4        21            0   \n",
       "4           4           6.0      15.42            23        66            1   \n",
       "\n",
       "   start_date    end_date  start_time_hour  start_time_minute  end_time_hour  \\\n",
       "0  2022-01-01  2022-01-01               19                 23             19   \n",
       "1  2022-01-01  2022-01-01               21                 19             21   \n",
       "2  2022-01-01  2022-01-01               22                 19             22   \n",
       "3  2022-01-01  2022-01-01               22                 38             22   \n",
       "4  2022-01-01  2022-01-01               22                 54             23   \n",
       "\n",
       "   end_time_minute  startLatitude  startLongitude  endLatitude  endLongitude  \n",
       "0               43      23.067647       72.566629    23.125884     72.566629  \n",
       "1               49      22.989396       72.586156    23.044864     72.646446  \n",
       "2               26      23.084192       72.529666    23.099364     72.546162  \n",
       "3               42      22.971624       72.525195    22.971623     72.539412  \n",
       "4               17      23.059013       72.524127    23.103218     72.557781  "
      ]
     },
     "execution_count": 3,
     "metadata": {},
     "output_type": "execute_result"
    }
   ],
   "source": [
    "data_main.head()"
   ]
  },
  {
   "cell_type": "code",
   "execution_count": 4,
   "id": "946b3483",
   "metadata": {},
   "outputs": [
    {
     "data": {
      "text/plain": [
       "Index(['Unnamed: 0', 'tripDistance', 'tripSpeed', 'tripDuration', 'tripFare',\n",
       "       'paymentType', 'start_date', 'end_date', 'start_time_hour',\n",
       "       'start_time_minute', 'end_time_hour', 'end_time_minute',\n",
       "       'startLatitude', 'startLongitude', 'endLatitude', 'endLongitude'],\n",
       "      dtype='object')"
      ]
     },
     "execution_count": 4,
     "metadata": {},
     "output_type": "execute_result"
    }
   ],
   "source": [
    "data_main.columns"
   ]
  },
  {
   "cell_type": "code",
   "execution_count": 4,
   "id": "880e30a8",
   "metadata": {},
   "outputs": [],
   "source": [
    "# Feature engineering\n",
    "data_main['start_datetime'] = pd.to_datetime(data_main['start_date'] + ' ' + data_main['start_time_hour'].astype(str) + ':' + data_main['start_time_minute'].astype(str))\n",
    "\n",
    "data_main['end_datetime'] = pd.to_datetime(data_main['end_date'] + ' ' + data_main['end_time_hour'].astype(str) + ':' + data_main['end_time_minute'].astype(str))"
   ]
  },
  {
   "cell_type": "markdown",
   "id": "6fb456cc",
   "metadata": {},
   "source": [
    "* This feature engineering step is to extract temporal information from separate date and time columns, creating new datetime features for both the start and end times of taxi rides.\n",
    "\n",
    "#### Temporal Analysis:\n",
    "* The new datetime features enable temporal analysis, allowing for insights into patterns and trends related to taxi ride start and end times.\n",
    "\n",
    "#### Model Input:\n",
    "* These features can be used as input for machine learning models, capturing the temporal aspect of taxi demand."
   ]
  },
  {
   "cell_type": "code",
   "execution_count": 5,
   "id": "02fba870",
   "metadata": {},
   "outputs": [],
   "source": [
    "# Extract relevant features\n",
    "data_main['hour'] = data_main['start_datetime'].dt.hour\n",
    "data_main['minute'] = data_main['start_datetime'].dt.minute\n",
    "data_main['day_of_week'] = data_main['start_datetime'].dt.dayofweek"
   ]
  },
  {
   "cell_type": "markdown",
   "id": "a0def461",
   "metadata": {},
   "source": [
    "* This code involves extracting specific time-related features from the newly created 'start_datetime' column. \n",
    "\n",
    "#### Hour Feature:\n",
    "* data_main['hour']: Creates a new column named 'hour' in the DataFrame (data_main).\n",
    "data_main['start_datetime'].dt.hour: Extracts the hour component from the 'start_datetime' column.\n",
    "\n",
    "#### Minute Feature:\n",
    "* data_main['minute']: Creates a new column named 'minute' in the DataFrame (data_main).\n",
    "data_main['start_datetime'].dt.minute: Extracts the minute component from the 'start_datetime' column.\n",
    "\n",
    "#### Day of Week Feature:\n",
    "* data_main['day_of_week']: Creates a new column named 'day_of_week' in the DataFrame (data_main).\n",
    "data_main['start_datetime'].dt.dayofweek: Extracts the day of the week (as an integer, where Monday is 0 and Sunday is 6) from the 'start_datetime' column.\n",
    "\n",
    "#### Benefits\n",
    "* These features provide more detailed temporal information, capturing the hour, minute, and day of the week of taxi ride starts.\n",
    "\n",
    "* Enhances the dataset with features that can potentially reveal patterns or trends based on specific times of the day or days of the week."
   ]
  },
  {
   "cell_type": "code",
   "execution_count": 6,
   "id": "f9c9f045",
   "metadata": {},
   "outputs": [],
   "source": [
    "# Select features\n",
    "features = ['tripDistance', 'tripSpeed', 'startLatitude', 'startLongitude', 'endLatitude', \n",
    "            'endLongitude', 'hour', 'minute', 'day_of_week']\n",
    "\n",
    "# Define target variable\n",
    "target = 'tripDuration'"
   ]
  },
  {
   "cell_type": "markdown",
   "id": "110c5dec",
   "metadata": {},
   "source": [
    "### Purpose:\n",
    "This section focuses on identifying the key features for modeling and specifying the target variable, essential for training a predictive model.\n",
    "\n",
    "#### Selected Features:\n",
    "The chosen features for modeling are as follows:\n",
    "\n",
    "* tripDistance: Distance covered during the trip.\n",
    "* tripSpeed: Speed during the trip.\n",
    "* startLatitude, startLongitude: Latitude and longitude of the starting point.\n",
    "* endLatitude, endLongitude: Latitude and longitude of the ending point.\n",
    "* hour, minute: Hour and minute of the taxi ride start.\n",
    "* day_of_week: Day of the week of the taxi ride start.\n",
    "\n",
    "#### Target Variable:\n",
    "* tripDuration: The variable representing the duration of the taxi ride, which serves as the target variable for prediction.\n",
    "\n",
    "### Importance of Feature Selection:\n",
    "#### Relevance to Prediction:\n",
    "\n",
    "* The selected features are chosen based on their potential impact on predicting the target variable, 'tripDuration.'\n",
    "\n",
    "#### Dimensionality Reduction:\n",
    "* Focusing on key features helps prevent overfitting and reduces the dimensionality of the model."
   ]
  },
  {
   "cell_type": "markdown",
   "id": "de1034a3",
   "metadata": {},
   "source": [
    "# Train-test split"
   ]
  },
  {
   "cell_type": "code",
   "execution_count": 7,
   "id": "2af4ebb3",
   "metadata": {},
   "outputs": [],
   "source": [
    "# Train-test split\n",
    "X_train, X_test, y_train, y_test = train_test_split(data_main[features], data_main[target], test_size=0.2, random_state=42)"
   ]
  },
  {
   "cell_type": "markdown",
   "id": "5df3220d",
   "metadata": {},
   "source": [
    "#### Split Ratio:\n",
    "The dataset is split into a training set (X_train, y_train) and a testing set (X_test, y_test).\n",
    "\n",
    "* The training set (80% of the data) is used to train the model.\n",
    "* The testing set (20% of the data) is reserved for evaluating the model's performance on unseen data."
   ]
  },
  {
   "cell_type": "markdown",
   "id": "c4613e0a",
   "metadata": {},
   "source": [
    "# Linear Regression"
   ]
  },
  {
   "cell_type": "code",
   "execution_count": 8,
   "id": "b0b454db",
   "metadata": {},
   "outputs": [
    {
     "name": "stdout",
     "output_type": "stream",
     "text": [
      "Linear Regression MSE: 4.269871191812226\n"
     ]
    }
   ],
   "source": [
    "# Linear Regression\n",
    "linear_model = LinearRegression()\n",
    "linear_model.fit(X_train, y_train)\n",
    "linear_pred = linear_model.predict(X_test)\n",
    "print(f\"Linear Regression MSE: {mean_squared_error(y_test, linear_pred)}\")"
   ]
  },
  {
   "cell_type": "markdown",
   "id": "f0edd1be",
   "metadata": {},
   "source": [
    "#### Print the scores on training and test set for Linear Regression"
   ]
  },
  {
   "cell_type": "code",
   "execution_count": 9,
   "id": "47974782",
   "metadata": {},
   "outputs": [
    {
     "name": "stdout",
     "output_type": "stream",
     "text": [
      "Training set score: 0.9585\n",
      "Test set score: 0.9579\n"
     ]
    }
   ],
   "source": [
    "# print the scores on training and test set for Linear Regression\n",
    "\n",
    "print('Training set score: {:.4f}'.format(linear_model.score(X_train, y_train)))\n",
    "\n",
    "print('Test set score: {:.4f}'.format(linear_model.score(X_test, y_test)))"
   ]
  },
  {
   "cell_type": "markdown",
   "id": "0f3d0f89",
   "metadata": {},
   "source": [
    "# Random Forest Regressor"
   ]
  },
  {
   "cell_type": "code",
   "execution_count": 11,
   "id": "eec1dfcc",
   "metadata": {},
   "outputs": [
    {
     "name": "stdout",
     "output_type": "stream",
     "text": [
      "Random Forest MSE: 0.07234713522948968\n"
     ]
    }
   ],
   "source": [
    "# Random Forest Regressor\n",
    "rf_model = RandomForestRegressor()\n",
    "rf_model.fit(X_train, y_train)\n",
    "rf_pred = rf_model.predict(X_test)\n",
    "print(f\"Random Forest MSE: {mean_squared_error(y_test, rf_pred)}\")"
   ]
  },
  {
   "cell_type": "markdown",
   "id": "02747ebf",
   "metadata": {},
   "source": [
    "#### Print the scores on training and test set for Random Forest Regressor"
   ]
  },
  {
   "cell_type": "code",
   "execution_count": 12,
   "id": "380d6b31",
   "metadata": {},
   "outputs": [
    {
     "name": "stdout",
     "output_type": "stream",
     "text": [
      "Training set score: 0.9999\n",
      "Test set score: 0.9993\n"
     ]
    }
   ],
   "source": [
    "# print the scores on training and test set\n",
    "\n",
    "print('Training set score: {:.4f}'.format(rf_model.score(X_train, y_train)))\n",
    "\n",
    "print('Test set score: {:.4f}'.format(rf_model.score(X_test, y_test)))"
   ]
  },
  {
   "cell_type": "markdown",
   "id": "13f8fed7",
   "metadata": {},
   "source": [
    "# XGBoost"
   ]
  },
  {
   "cell_type": "code",
   "execution_count": 13,
   "id": "f5da9eac",
   "metadata": {},
   "outputs": [
    {
     "name": "stdout",
     "output_type": "stream",
     "text": [
      "XGBoost MSE: 0.12341206627706089\n"
     ]
    }
   ],
   "source": [
    "# XGBoost\n",
    "xgb_model = XGBRegressor()\n",
    "xgb_model.fit(X_train, y_train)\n",
    "xgb_pred = xgb_model.predict(X_test)\n",
    "print(f\"XGBoost MSE: {mean_squared_error(y_test, xgb_pred)}\")"
   ]
  },
  {
   "cell_type": "markdown",
   "id": "2af58b87",
   "metadata": {},
   "source": [
    "#### Print the scores on training and test set for XGBoost"
   ]
  },
  {
   "cell_type": "code",
   "execution_count": 14,
   "id": "29f0da8c",
   "metadata": {},
   "outputs": [
    {
     "name": "stdout",
     "output_type": "stream",
     "text": [
      "Training set score: 0.9990\n",
      "Test set score: 0.9988\n"
     ]
    }
   ],
   "source": [
    "# print the scores on training and test set\n",
    "\n",
    "print('Training set score: {:.4f}'.format(xgb_model.score(X_train, y_train)))\n",
    "\n",
    "print('Test set score: {:.4f}'.format(xgb_model.score(X_test, y_test)))"
   ]
  },
  {
   "cell_type": "markdown",
   "id": "162733b1",
   "metadata": {},
   "source": [
    "# Deep Neural Network"
   ]
  },
  {
   "cell_type": "code",
   "execution_count": 16,
   "id": "9276c4e1",
   "metadata": {},
   "outputs": [
    {
     "name": "stdout",
     "output_type": "stream",
     "text": [
      "MLP Regression MSE: 0.09668115723337924\n"
     ]
    }
   ],
   "source": [
    "# Deep Neural Network\n",
    "scaler = StandardScaler()\n",
    "mlp_model = MLPRegressor(max_iter=500)\n",
    "pipeline = Pipeline([('scaler', scaler), ('mlp', mlp_model)])\n",
    "pipeline.fit(X_train, y_train)\n",
    "mlp_pred = pipeline.predict(X_test)\n",
    "print(f\"MLP Regression MSE: {mean_squared_error(y_test, mlp_pred)}\")"
   ]
  },
  {
   "cell_type": "markdown",
   "id": "f5bd5df9",
   "metadata": {},
   "source": [
    "#### Print the scores on training and test set for Deep Neural Network"
   ]
  },
  {
   "cell_type": "code",
   "execution_count": 23,
   "id": "1e913679",
   "metadata": {},
   "outputs": [
    {
     "name": "stdout",
     "output_type": "stream",
     "text": [
      "Training set score: 0.9991\n",
      "Test set score: 0.9990\n"
     ]
    }
   ],
   "source": [
    "# print the scores on training and test set\n",
    "\n",
    "print('Training set score: {:.4f}'.format(pipeline.score(X_train, y_train)))\n",
    "\n",
    "print('Test set score: {:.4f}'.format(pipeline.score(X_test, y_test)))"
   ]
  },
  {
   "cell_type": "markdown",
   "id": "fdaa4c65",
   "metadata": {},
   "source": [
    "# ARIMA"
   ]
  },
  {
   "cell_type": "code",
   "execution_count": 17,
   "id": "3c5129e0",
   "metadata": {},
   "outputs": [
    {
     "name": "stdout",
     "output_type": "stream",
     "text": [
      "ARIMA MSE: 117.46874067417359\n"
     ]
    }
   ],
   "source": [
    "# ARIMA (AutoRegressive Integrated Moving Average)\n",
    "arima_model = ARIMA(data[target], order=(5, 1, 0))\n",
    "arima_results = arima_model.fit()\n",
    "arima_pred = arima_results.predict(start=len(data)-len(X_test), end=len(data)-1, typ='levels')\n",
    "print(f\"ARIMA MSE: {mean_squared_error(y_test, arima_pred)}\")"
   ]
  },
  {
   "cell_type": "code",
   "execution_count": 24,
   "id": "605cc9ea",
   "metadata": {},
   "outputs": [
    {
     "name": "stdout",
     "output_type": "stream",
     "text": [
      "                               SARIMAX Results                                \n",
      "==============================================================================\n",
      "Dep. Variable:           tripDuration   No. Observations:                97386\n",
      "Model:                 ARIMA(5, 1, 0)   Log Likelihood             -369763.333\n",
      "Date:                Sat, 23 Dec 2023   AIC                         739538.666\n",
      "Time:                        22:47:30   BIC                         739595.585\n",
      "Sample:                             0   HQIC                        739555.960\n",
      "                              - 97386                                         \n",
      "Covariance Type:                  opg                                         \n",
      "==============================================================================\n",
      "                 coef    std err          z      P>|z|      [0.025      0.975]\n",
      "------------------------------------------------------------------------------\n",
      "ar.L1         -0.8441      0.003   -266.407      0.000      -0.850      -0.838\n",
      "ar.L2         -0.6711      0.004   -166.021      0.000      -0.679      -0.663\n",
      "ar.L3         -0.5064      0.004   -118.844      0.000      -0.515      -0.498\n",
      "ar.L4         -0.3370      0.004    -83.801      0.000      -0.345      -0.329\n",
      "ar.L5         -0.1641      0.003    -51.777      0.000      -0.170      -0.158\n",
      "sigma2       116.2745      0.549    211.846      0.000     115.199     117.350\n",
      "===================================================================================\n",
      "Ljung-Box (L1) (Q):                  53.52   Jarque-Bera (JB):              3186.13\n",
      "Prob(Q):                              0.00   Prob(JB):                         0.00\n",
      "Heteroskedasticity (H):               0.99   Skew:                             0.44\n",
      "Prob(H) (two-sided):                  0.62   Kurtosis:                         2.84\n",
      "===================================================================================\n",
      "\n",
      "Warnings:\n",
      "[1] Covariance matrix calculated using the outer product of gradients (complex-step).\n"
     ]
    }
   ],
   "source": [
    "# Print summary statistics\n",
    "print(arima_results.summary())"
   ]
  },
  {
   "cell_type": "code",
   "execution_count": null,
   "id": "7a4048cc",
   "metadata": {},
   "outputs": [],
   "source": []
  },
  {
   "cell_type": "code",
   "execution_count": 18,
   "id": "cfd07cfc",
   "metadata": {},
   "outputs": [
    {
     "name": "stdout",
     "output_type": "stream",
     "text": [
      "Linear Regression MSE: 4.269871191812226\n",
      "Random Forest MSE: 0.07234713522948968\n",
      "XGBoost MSE: 0.12341206627706089\n",
      "MLP Regression MSE: 0.09668115723337924\n",
      "ARIMA MSE: 117.46874067417359\n"
     ]
    }
   ],
   "source": [
    "print(f\"Linear Regression MSE: {mean_squared_error(y_test, linear_pred)}\")\n",
    "\n",
    "print(f\"Random Forest MSE: {mean_squared_error(y_test, rf_pred)}\")\n",
    "\n",
    "print(f\"XGBoost MSE: {mean_squared_error(y_test, xgb_pred)}\")\n",
    "\n",
    "print(f\"MLP Regression MSE: {mean_squared_error(y_test, mlp_pred)}\")\n",
    "\n",
    "print(f\"ARIMA MSE: {mean_squared_error(y_test, arima_pred)}\")"
   ]
  },
  {
   "cell_type": "markdown",
   "id": "03eb59a2",
   "metadata": {},
   "source": [
    "* The lower MSE values for Random Forest, XGBoost, and MLP Regression indicate that these models are performing well on the given dataset for the task of demand forecasting for taxi rides in 15-minute intervals. \n",
    "* Among them, Random Forest has the lowest MSE, so it may be the best-performing model for the given use case."
   ]
  },
  {
   "cell_type": "markdown",
   "id": "55c75172",
   "metadata": {},
   "source": [
    "# Lets do prediciton of the Models"
   ]
  },
  {
   "cell_type": "code",
   "execution_count": 25,
   "id": "f6df6235",
   "metadata": {},
   "outputs": [
    {
     "name": "stdout",
     "output_type": "stream",
     "text": [
      "Random Forest Predictions: [15.05 23.26  9.55]\n",
      "Linear Regression Predictions: [15.69276001 23.59190164  9.69234107]\n",
      "MLP Regression Predictions: [29.28310251 28.47924976 13.11002964]\n",
      "XGBoost Predictions: [15.1093855 23.26779    9.453494 ]\n"
     ]
    }
   ],
   "source": [
    "import pandas as pd\n",
    "import numpy as np\n",
    "\n",
    "# Create sample data\n",
    "sample_data = pd.DataFrame({\n",
    "    'tripDistance': [5.0, 7.2, 3.5],\n",
    "    'tripSpeed': [20.0, 18.5, 22.0],\n",
    "    'startLatitude': [23.0, 22.8, 23.2],\n",
    "    'startLongitude': [72.5, 72.7, 72.6],\n",
    "    'endLatitude': [23.5, 23.0, 23.4],\n",
    "    'endLongitude': [72.8, 72.9, 72.7],\n",
    "    'hour': [8, 12, 15],\n",
    "    'minute': [30, 15, 45],\n",
    "    'day_of_week': [1, 3, 5]\n",
    "})\n",
    "\n",
    "# Use trained Random Forest model for prediction\n",
    "rf_predictions = rf_model.predict(sample_data)\n",
    "\n",
    "# Similarly, use other models for prediction\n",
    "linear_predictions = linear_model.predict(sample_data)\n",
    "mlp_predictions = pipeline.predict(sample_data)\n",
    "xgb_predictions = xgb_model.predict(sample_data)\n",
    "\n",
    "# Print predictions\n",
    "print(\"Random Forest Predictions:\", rf_predictions)\n",
    "print(\"Linear Regression Predictions:\", linear_predictions)\n",
    "print(\"MLP Regression Predictions:\", mlp_predictions)\n",
    "print(\"XGBoost Predictions:\", xgb_predictions)"
   ]
  },
  {
   "cell_type": "markdown",
   "id": "8f3d558a",
   "metadata": {},
   "source": [
    "# Save the model for the Deployment Stage"
   ]
  },
  {
   "cell_type": "code",
   "execution_count": 26,
   "id": "d06cf49a",
   "metadata": {},
   "outputs": [],
   "source": [
    "import pickle as pk     # to save the model"
   ]
  },
  {
   "cell_type": "code",
   "execution_count": 28,
   "id": "d8a01a37",
   "metadata": {},
   "outputs": [],
   "source": [
    "filename = \"taxi_demand.pkl\"\n",
    "\n",
    "pk.dump(rf_model,open(filename,\"wb\"))     # wb = write binaries"
   ]
  },
  {
   "cell_type": "code",
   "execution_count": null,
   "id": "09dd2440",
   "metadata": {},
   "outputs": [],
   "source": []
  }
 ],
 "metadata": {
  "kernelspec": {
   "display_name": "Python 3 (ipykernel)",
   "language": "python",
   "name": "python3"
  },
  "language_info": {
   "codemirror_mode": {
    "name": "ipython",
    "version": 3
   },
   "file_extension": ".py",
   "mimetype": "text/x-python",
   "name": "python",
   "nbconvert_exporter": "python",
   "pygments_lexer": "ipython3",
   "version": "3.8.12"
  }
 },
 "nbformat": 4,
 "nbformat_minor": 5
}
